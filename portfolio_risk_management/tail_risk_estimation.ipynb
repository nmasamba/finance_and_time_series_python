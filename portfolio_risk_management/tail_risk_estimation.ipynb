{
 "cells": [
  {
   "cell_type": "code",
   "execution_count": 1,
   "metadata": {},
   "outputs": [],
   "source": [
    "\n",
    "import numpy as np\n",
    "import pandas as pd\n",
    "import matplotlib.pyplot as plt"
   ]
  },
  {
   "cell_type": "code",
   "execution_count": 2,
   "metadata": {},
   "outputs": [],
   "source": [
    "\n",
    "# Load price data\n",
    "eth_df = pd.read_csv('data/ETH-USD.csv', parse_dates=['Date'])\n",
    "eth_df = eth_df.sort_values(by='Date')\n",
    "eth_df.set_index('Date', inplace=True)"
   ]
  },
  {
   "cell_type": "code",
   "execution_count": 3,
   "metadata": {},
   "outputs": [],
   "source": [
    "\n",
    "# Calculate returns\n",
    "eth_df['SimpleReturns'] = eth_df['Adj Close'].pct_change()\n",
    "eth_df['CumReturns'] = ((1+eth_df['SimpleReturns']).cumprod() - 1) * 100"
   ]
  },
  {
   "cell_type": "code",
   "execution_count": 4,
   "metadata": {},
   "outputs": [
    {
     "data": {
      "text/html": [
       "<div>\n",
       "<style scoped>\n",
       "    .dataframe tbody tr th:only-of-type {\n",
       "        vertical-align: middle;\n",
       "    }\n",
       "\n",
       "    .dataframe tbody tr th {\n",
       "        vertical-align: top;\n",
       "    }\n",
       "\n",
       "    .dataframe thead th {\n",
       "        text-align: right;\n",
       "    }\n",
       "</style>\n",
       "<table border=\"1\" class=\"dataframe\">\n",
       "  <thead>\n",
       "    <tr style=\"text-align: right;\">\n",
       "      <th></th>\n",
       "      <th>Open</th>\n",
       "      <th>High</th>\n",
       "      <th>Low</th>\n",
       "      <th>Close</th>\n",
       "      <th>Adj Close</th>\n",
       "      <th>Volume</th>\n",
       "      <th>SimpleReturns</th>\n",
       "      <th>CumReturns</th>\n",
       "    </tr>\n",
       "    <tr>\n",
       "      <th>Date</th>\n",
       "      <th></th>\n",
       "      <th></th>\n",
       "      <th></th>\n",
       "      <th></th>\n",
       "      <th></th>\n",
       "      <th></th>\n",
       "      <th></th>\n",
       "      <th></th>\n",
       "    </tr>\n",
       "  </thead>\n",
       "  <tbody>\n",
       "    <tr>\n",
       "      <th>2020-11-26</th>\n",
       "      <td>570.514893</td>\n",
       "      <td>575.641479</td>\n",
       "      <td>485.497314</td>\n",
       "      <td>518.801147</td>\n",
       "      <td>518.801147</td>\n",
       "      <td>31104004592</td>\n",
       "      <td>NaN</td>\n",
       "      <td>NaN</td>\n",
       "    </tr>\n",
       "    <tr>\n",
       "      <th>2020-11-27</th>\n",
       "      <td>519.108093</td>\n",
       "      <td>530.777161</td>\n",
       "      <td>497.242615</td>\n",
       "      <td>517.493713</td>\n",
       "      <td>517.493713</td>\n",
       "      <td>16831105703</td>\n",
       "      <td>-0.002520</td>\n",
       "      <td>-0.252011</td>\n",
       "    </tr>\n",
       "    <tr>\n",
       "      <th>2020-11-28</th>\n",
       "      <td>517.597351</td>\n",
       "      <td>548.044861</td>\n",
       "      <td>508.125366</td>\n",
       "      <td>538.229797</td>\n",
       "      <td>538.229797</td>\n",
       "      <td>14770243833</td>\n",
       "      <td>0.040070</td>\n",
       "      <td>3.744913</td>\n",
       "    </tr>\n",
       "    <tr>\n",
       "      <th>2020-11-29</th>\n",
       "      <td>538.264587</td>\n",
       "      <td>576.602417</td>\n",
       "      <td>531.987549</td>\n",
       "      <td>575.758057</td>\n",
       "      <td>575.758057</td>\n",
       "      <td>15017517758</td>\n",
       "      <td>0.069725</td>\n",
       "      <td>10.978563</td>\n",
       "    </tr>\n",
       "    <tr>\n",
       "      <th>2020-11-30</th>\n",
       "      <td>575.757080</td>\n",
       "      <td>615.240540</td>\n",
       "      <td>571.537781</td>\n",
       "      <td>614.842529</td>\n",
       "      <td>614.842529</td>\n",
       "      <td>20276867833</td>\n",
       "      <td>0.067883</td>\n",
       "      <td>18.512176</td>\n",
       "    </tr>\n",
       "  </tbody>\n",
       "</table>\n",
       "</div>"
      ],
      "text/plain": [
       "                  Open        High         Low       Close   Adj Close  \\\n",
       "Date                                                                     \n",
       "2020-11-26  570.514893  575.641479  485.497314  518.801147  518.801147   \n",
       "2020-11-27  519.108093  530.777161  497.242615  517.493713  517.493713   \n",
       "2020-11-28  517.597351  548.044861  508.125366  538.229797  538.229797   \n",
       "2020-11-29  538.264587  576.602417  531.987549  575.758057  575.758057   \n",
       "2020-11-30  575.757080  615.240540  571.537781  614.842529  614.842529   \n",
       "\n",
       "                 Volume  SimpleReturns  CumReturns  \n",
       "Date                                                \n",
       "2020-11-26  31104004592            NaN         NaN  \n",
       "2020-11-27  16831105703      -0.002520   -0.252011  \n",
       "2020-11-28  14770243833       0.040070    3.744913  \n",
       "2020-11-29  15017517758       0.069725   10.978563  \n",
       "2020-11-30  20276867833       0.067883   18.512176  "
      ]
     },
     "execution_count": 4,
     "metadata": {},
     "output_type": "execute_result"
    }
   ],
   "source": [
    "eth_df.head()"
   ]
  },
  {
   "cell_type": "markdown",
   "metadata": {},
   "source": [
    "# Tail Risk\n",
    "\n",
    "Tail risk is the quantifiable level of risk that can be attributed to extreme investment outcomes. We are particularly interested in the tail risk that can occur on the left (negative) side of a distribution.\n",
    "\n",
    "<img src='tail_risks.png'>\n",
    "\n",
    "Image from https://seekingalpha.com/article/4225841-dancing-swans-tail-risks"
   ]
  },
  {
   "cell_type": "markdown",
   "metadata": {},
   "source": [
    "# Historical Drawdown"
   ]
  },
  {
   "cell_type": "code",
   "execution_count": 22,
   "metadata": {},
   "outputs": [
    {
     "name": "stdout",
     "output_type": "stream",
     "text": [
      "The maximum drawdown was -72.43%.\n"
     ]
    }
   ],
   "source": [
    "\n",
    "# Historical drawdown estimates the percentage loss from the previous highest point of the portfolio\n",
    "# How far have you fallen from your highest historical point?\n",
    "cum_returns = eth_df['CumReturns'].dropna()\n",
    "running_max = np.maximum.accumulate(cum_returns)\n",
    "running_max[running_max < 1] = 1\n",
    "drawdown = (cum_returns)/running_max - 1\n",
    "print(\"The maximum drawdown was {:.2f}\".format(np.amin(drawdown[drawdown > -1] * 100))+\"%.\")"
   ]
  },
  {
   "cell_type": "code",
   "execution_count": 6,
   "metadata": {},
   "outputs": [
    {
     "data": {
      "image/png": "[encoded data removed]",
      "text/plain": [
       "<Figure size 432x288 with 1 Axes>"
      ]
     },
     "metadata": {
      "needs_background": "light"
     },
     "output_type": "display_data"
    }
   ],
   "source": [
    "drawdown.plot()\n",
    "plt.show()"
   ]
  },
  {
   "cell_type": "markdown",
   "metadata": {},
   "source": [
    "# Value at Risk & Conditional Value at Risk"
   ]
  },
  {
   "cell_type": "code",
   "execution_count": 7,
   "metadata": {},
   "outputs": [],
   "source": [
    "\n",
    "# Value at Risk (VaR) is an estimate of how much could be lost in a given time period, within a given confidence level\n",
    "# How much could be lost during a given period historically? And how confident can we be of that historical estimate?\n",
    "# Daily Var estimation below, since this is based on daily historical data\n",
    "# Commonly quoted with quantiles such as 95, 99 and 99.9%"
   ]
  },
  {
   "cell_type": "code",
   "execution_count": 8,
   "metadata": {},
   "outputs": [],
   "source": [
    "\n",
    "# Conditional Value at Risk (CVaR) is an estimate of the expected value of losses sustained on the occassions when the worst x% of scenarios happened\n",
    "# In the worst x% of scenarios, how much on average could we have lost historically?\n",
    "# Also known as Expected Shortfall\n"
   ]
  },
  {
   "cell_type": "markdown",
   "metadata": {},
   "source": [
    "# Monte Carlo Simulation"
   ]
  },
  {
   "cell_type": "code",
   "execution_count": null,
   "metadata": {},
   "outputs": [],
   "source": []
  }
 ],
 "metadata": {
  "kernelspec": {
   "display_name": "Rules vs Random (PhD)",
   "language": "python",
   "name": "rules_vs_random"
  },
  "language_info": {
   "codemirror_mode": {
    "name": "ipython",
    "version": 3
   },
   "file_extension": ".py",
   "mimetype": "text/x-python",
   "name": "python",
   "nbconvert_exporter": "python",
   "pygments_lexer": "ipython3",
   "version": "3.7.11"
  }
 },
 "nbformat": 4,
 "nbformat_minor": 2
}
