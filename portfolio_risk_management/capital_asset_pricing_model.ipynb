{
 "cells": [
  {
   "cell_type": "code",
   "execution_count": 1,
   "metadata": {},
   "outputs": [],
   "source": [
    "\n",
    "import numpy as np\n",
    "import pandas as pd\n",
    "import statsmodels.formula.api as smf\n",
    "import matplotlib.pyplot as plt"
   ]
  },
  {
   "cell_type": "code",
   "execution_count": 2,
   "metadata": {},
   "outputs": [],
   "source": [
    "\n",
    "# Load stocks returns data\n",
    "stocks_df = pd.read_csv('data/optimal_portfolio_returns.csv', parse_dates=['Date'])\n",
    "stocks_df = stocks_df.sort_values(by='Date')\n",
    "stocks_df.set_index('Date', inplace=True)\n",
    "tickers = stocks_df.columns[1:]"
   ]
  },
  {
   "cell_type": "code",
   "execution_count": null,
   "metadata": {},
   "outputs": [],
   "source": []
  },
  {
   "cell_type": "code",
   "execution_count": null,
   "metadata": {},
   "outputs": [],
   "source": []
  },
  {
   "cell_type": "markdown",
   "metadata": {},
   "source": [
    "# The Capital Asset Pricing Model"
   ]
  },
  {
   "cell_type": "markdown",
   "metadata": {},
   "source": [
    "The Capital Asset Pricing Model (CAPM) is a factor model that describes the relationship between systematic risk and the expected return for assets such as portfolios, or even individual equities. It can be seen as a metric for determining the expected excess return from a risky asset relative to a risk-free asset.\n",
    "\n",
    "CAPM: $E(R_P) - RFR = \\beta_P(E(R_M) - RFR)$,\n",
    "\n",
    "where: \n",
    "- $RFR$ is the local risk-free rate.\n",
    "- $\\beta_P$ is the portfolio beta (or exposure to the broad market portfolio), calculated as $\\beta_P = \\frac{\n",
    "Cov(R_P, R_M)}{Var(R_M)}$.\n",
    "- $E(R_P) - RFR$ is the expected portfolio return minus the risk-free rate, i.e. the excess return expected from an asset or a portfolio of risky assets, $P$.\n",
    "- $E(R_M) - RFR$ is the expected market return minus the risk-free rate, i.e. the excess expected return of the broad market portfolio, $M$.\n"
   ]
  },
  {
   "cell_type": "code",
   "execution_count": 3,
   "metadata": {},
   "outputs": [],
   "source": [
    "\n",
    "# Fama and French developed and track factors that can be modelled into the CAPM\n",
    "# Fama-French 3-Factor data from https://mba.tuck.dartmouth.edu/pages/faculty/ken.french/data_library.html\n",
    "# Fama-French data goes back to 1926. Merge/join on date with current stock returns (e.g. equal-weighted) to get condensed data set\n",
    "FamaFrench_data = pd.read_csv('data/FF_factors_daily.csv', parse_dates=['Date'])\n",
    "FamaFrench_data.set_index('Date', inplace=True)\n",
    "FamaFrench_data = pd.merge(FamaFrench_data, stocks_df[['EqualPortfolio']], left_on='Date', right_on='Date')\n",
    "FamaFrench_data.rename(columns={'Mkt-RF':'MarketExcess'}, inplace=True)"
   ]
  },
  {
   "cell_type": "code",
   "execution_count": null,
   "metadata": {},
   "outputs": [],
   "source": []
  },
  {
   "cell_type": "code",
   "execution_count": 4,
   "metadata": {},
   "outputs": [
    {
     "data": {
      "image/png": "[encoded data removed]",
      "text/plain": [
       "<Figure size 432x288 with 1 Axes>"
      ]
     },
     "metadata": {
      "needs_background": "light"
     },
     "output_type": "display_data"
    }
   ],
   "source": [
    "\n",
    "# Excess portfolio returns compared to equal-weighted portfolio returns\n",
    "# In this case, the lines overlap because risk-free rate = 0\n",
    "FamaFrench_data['PortfolioExcess'] = FamaFrench_data['EqualPortfolio'] - FamaFrench_data['RF']\n",
    "cum_returns_df = ((1+FamaFrench_data).cumprod() - 1) * 100\n",
    "cum_returns_df[['PortfolioExcess', 'EqualPortfolio']].plot()\n",
    "plt.title('Portfolio Returns')\n",
    "plt.xlabel('Date')\n",
    "plt.ylabel('Cumulative Return (%)')\n",
    "plt.show()"
   ]
  },
  {
   "cell_type": "markdown",
   "metadata": {},
   "source": [
    "# CAPM Model 1"
   ]
  },
  {
   "cell_type": "code",
   "execution_count": 6,
   "metadata": {},
   "outputs": [
    {
     "name": "stdout",
     "output_type": "stream",
     "text": [
      "                 PortfolioExcess  MarketExcess\n",
      "PortfolioExcess         0.000179      0.008520\n",
      "MarketExcess            0.008520      0.685205\n"
     ]
    }
   ],
   "source": [
    "\n",
    "# CAPM highly dependent on beta, which is a measure of the portfolio's exposure to the broad market\n",
    "# In an investment environment where the risk-free rate = 0, all returns are excess returns\n",
    "# Therefore, it is more important to know your portfolio's exposure to the benchmark market (i.e. beta)\n",
    "covariance_matrix = FamaFrench_data[['PortfolioExcess', 'MarketExcess']].cov()\n",
    "print(covariance_matrix)"
   ]
  },
  {
   "cell_type": "code",
   "execution_count": 7,
   "metadata": {},
   "outputs": [],
   "source": [
    "covariance_coefficient = covariance_matrix.iloc[0,1]"
   ]
  },
  {
   "cell_type": "code",
   "execution_count": 8,
   "metadata": {},
   "outputs": [
    {
     "name": "stdout",
     "output_type": "stream",
     "text": [
      "0.6852050420168067\n"
     ]
    }
   ],
   "source": [
    "market_variance = FamaFrench_data['MarketExcess'].var()\n",
    "print(market_variance)"
   ]
  },
  {
   "cell_type": "code",
   "execution_count": 9,
   "metadata": {},
   "outputs": [
    {
     "name": "stdout",
     "output_type": "stream",
     "text": [
      "The portfolio beta is 1.24%.\n"
     ]
    }
   ],
   "source": [
    "# For every 1% rise (fal) in the market, you can expect your portfolio to rise (fall) by this much\n",
    "portfolio_beta = covariance_coefficient/market_variance\n",
    "print(\"The portfolio beta is {:.2f}\".format(portfolio_beta*100)+\"%.\")"
   ]
  },
  {
   "cell_type": "markdown",
   "metadata": {},
   "source": [
    "# CAPM Model 2"
   ]
  },
  {
   "cell_type": "code",
   "execution_count": 14,
   "metadata": {},
   "outputs": [
    {
     "name": "stdout",
     "output_type": "stream",
     "text": [
      "Intercept       0.000576\n",
      "MarketExcess    0.012434\n",
      "dtype: float64\n"
     ]
    }
   ],
   "source": [
    "\n",
    "# This method of modelling the CAPM beta uses ordinary least squares regression\n",
    "# It can easily be extended to incorporate more factors as well\n",
    "model = smf.ols(formula='PortfolioExcess ~ MarketExcess', data=FamaFrench_data)\n",
    "fitted_model = model.fit()\n",
    "print(fitted_model.params)"
   ]
  },
  {
   "cell_type": "code",
   "execution_count": 12,
   "metadata": {},
   "outputs": [
    {
     "name": "stdout",
     "output_type": "stream",
     "text": [
      "The portfolio beta is 1.24%.\n"
     ]
    }
   ],
   "source": [
    "\n",
    "beta = fitted_model.params['MarketExcess']\n",
    "print(\"The portfolio beta is {:.2f}\".format(beta*100)+\"%.\")"
   ]
  },
  {
   "cell_type": "code",
   "execution_count": 16,
   "metadata": {},
   "outputs": [
    {
     "name": "stdout",
     "output_type": "stream",
     "text": [
      "The r-squared is 59.30%.\n"
     ]
    }
   ],
   "source": [
    "\n",
    "# How much of the regressed variable's variance is explained by the regressor factors?\n",
    "# This is measured by the r^2 metric\n",
    "r_sq = fitted_model.rsquared\n",
    "print(\"The model's r-squared is {:.2f}\".format(r_sq*100)+\"%.\")"
   ]
  },
  {
   "cell_type": "code",
   "execution_count": 17,
   "metadata": {},
   "outputs": [
    {
     "name": "stdout",
     "output_type": "stream",
     "text": [
      "The model's adjusted r-squared is 59.13%.\n"
     ]
    }
   ],
   "source": [
    "\n",
    "# How much of the regressed variable's variance is explained by the regressor factors?\n",
    "# The adjusted-r^2 metric takes into account the number of factors in the model, which helps with overfitting\n",
    "adjusted_r_sq = fitted_model.rsquared_adj\n",
    "print(\"The model's adjusted r-squared is {:.2f}\".format(adjusted_r_sq*100)+\"%.\")"
   ]
  },
  {
   "cell_type": "code",
   "execution_count": null,
   "metadata": {},
   "outputs": [],
   "source": []
  }
 ],
 "metadata": {
  "kernelspec": {
   "display_name": "Rules vs Random (PhD)",
   "language": "python",
   "name": "rules_vs_random"
  },
  "language_info": {
   "codemirror_mode": {
    "name": "ipython",
    "version": 3
   },
   "file_extension": ".py",
   "mimetype": "text/x-python",
   "name": "python",
   "nbconvert_exporter": "python",
   "pygments_lexer": "ipython3",
   "version": "3.7.11"
  }
 },
 "nbformat": 4,
 "nbformat_minor": 2
}
