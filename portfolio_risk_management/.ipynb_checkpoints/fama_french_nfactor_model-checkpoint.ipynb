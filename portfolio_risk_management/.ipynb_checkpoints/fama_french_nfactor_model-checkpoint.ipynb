{
 "cells": [
  {
   "cell_type": "code",
   "execution_count": 1,
   "metadata": {},
   "outputs": [],
   "source": [
    "\n",
    "import numpy as np\n",
    "import pandas as pd\n",
    "import statsmodels.formula.api as smf\n",
    "import matplotlib.pyplot as plt"
   ]
  },
  {
   "cell_type": "code",
   "execution_count": 2,
   "metadata": {},
   "outputs": [],
   "source": [
    "\n",
    "# Load stocks returns data\n",
    "stocks_df = pd.read_csv('data/optimal_portfolio_returns.csv', parse_dates=['Date'])\n",
    "stocks_df = stocks_df.sort_values(by='Date')\n",
    "stocks_df.set_index('Date', inplace=True)\n",
    "tickers = stocks_df.columns[1:]"
   ]
  },
  {
   "cell_type": "markdown",
   "metadata": {},
   "source": [
    "# Fama-French 3 Factor Model"
   ]
  },
  {
   "cell_type": "markdown",
   "metadata": {},
   "source": [
    "The Fama-French 3 Factor Model, like the CAPM, can be seen as a metric for determining the excess return that should be expected from holding a risky asset such as an equity. The model was introduced in Fama & French's paper titled \"Common risk factors in the returns on stocks and bonds\" (1993), published in the Journal of Financial Economics. It tends to outperform the CAPM, managing to explain more of the variance in the data. Also, it makes sense that investors should be rewarded more for holding smaller companies than large ones, or that investors should be compensated for holding high-value assets rather than inflated popular ones into which value has already been priced in.\n",
    "\n",
    "$ R_P = RFR + \\beta_M(R_M - RFR) + b_{SMB} \\cdot SMB + b_{HML} \\cdot HML + \\alpha$,\n",
    "\n",
    "where: \n",
    "- $SMB$ is the Small minus Big factor,\n",
    "- $HML$ is the High minus Low factor,\n",
    "- $\\alpha$ is the performance which remains unexplained by all other factors\n",
    "- $R_P$ is the expected portfolio return,\n",
    "- $\\beta_M$ is the portfolio's exposure to the broad market return."
   ]
  },
  {
   "cell_type": "code",
   "execution_count": 3,
   "metadata": {},
   "outputs": [],
   "source": [
    "\n",
    "# The CAPM accomodates one factor (market excess) to explain portfolio returns\n",
    "# The Fama-French model accomodates more -- initially 3, now 5 -- well researched factors\n",
    "# The market excess remains one of the Fama-French factors, typically the most important one!\n",
    "# Fama-French data goes back to 1926. Merge/join on date with current stock returns (e.g. equal-weighted) to get condensed data set\n",
    "FamaFrench_data = pd.read_csv('data/FF_factors_daily.csv', parse_dates=['Date'])\n",
    "FamaFrench_data.set_index('Date', inplace=True)\n",
    "FamaFrench_data = pd.merge(FamaFrench_data, stocks_df[['EqualPortfolio']], left_on='Date', right_on='Date')\n",
    "FamaFrench_data.rename(columns={'Mkt-RF':'MarketExcess'}, inplace=True)\n",
    "FamaFrench_data['PortfolioExcess'] = FamaFrench_data['EqualPortfolio'] - FamaFrench_data['RF']"
   ]
  },
  {
   "cell_type": "code",
   "execution_count": 4,
   "metadata": {},
   "outputs": [
    {
     "data": {
      "text/html": [
       "<div>\n",
       "<style scoped>\n",
       "    .dataframe tbody tr th:only-of-type {\n",
       "        vertical-align: middle;\n",
       "    }\n",
       "\n",
       "    .dataframe tbody tr th {\n",
       "        vertical-align: top;\n",
       "    }\n",
       "\n",
       "    .dataframe thead th {\n",
       "        text-align: right;\n",
       "    }\n",
       "</style>\n",
       "<table border=\"1\" class=\"dataframe\">\n",
       "  <thead>\n",
       "    <tr style=\"text-align: right;\">\n",
       "      <th></th>\n",
       "      <th>MarketExcess</th>\n",
       "      <th>SMB</th>\n",
       "      <th>HML</th>\n",
       "      <th>RF</th>\n",
       "      <th>EqualPortfolio</th>\n",
       "      <th>PortfolioExcess</th>\n",
       "    </tr>\n",
       "    <tr>\n",
       "      <th>Date</th>\n",
       "      <th></th>\n",
       "      <th></th>\n",
       "      <th></th>\n",
       "      <th></th>\n",
       "      <th></th>\n",
       "      <th></th>\n",
       "    </tr>\n",
       "  </thead>\n",
       "  <tbody>\n",
       "    <tr>\n",
       "      <th>2020-11-18</th>\n",
       "      <td>-0.93</td>\n",
       "      <td>0.00</td>\n",
       "      <td>0.00</td>\n",
       "      <td>0.0</td>\n",
       "      <td>0.000000</td>\n",
       "      <td>0.000000</td>\n",
       "    </tr>\n",
       "    <tr>\n",
       "      <th>2020-11-19</th>\n",
       "      <td>0.59</td>\n",
       "      <td>0.48</td>\n",
       "      <td>-0.74</td>\n",
       "      <td>0.0</td>\n",
       "      <td>0.008681</td>\n",
       "      <td>0.008681</td>\n",
       "    </tr>\n",
       "    <tr>\n",
       "      <th>2020-11-20</th>\n",
       "      <td>-0.51</td>\n",
       "      <td>0.68</td>\n",
       "      <td>-0.61</td>\n",
       "      <td>0.0</td>\n",
       "      <td>-0.010867</td>\n",
       "      <td>-0.010867</td>\n",
       "    </tr>\n",
       "    <tr>\n",
       "      <th>2020-11-23</th>\n",
       "      <td>0.83</td>\n",
       "      <td>0.89</td>\n",
       "      <td>1.57</td>\n",
       "      <td>0.0</td>\n",
       "      <td>-0.000434</td>\n",
       "      <td>-0.000434</td>\n",
       "    </tr>\n",
       "    <tr>\n",
       "      <th>2020-11-24</th>\n",
       "      <td>1.56</td>\n",
       "      <td>-0.15</td>\n",
       "      <td>2.75</td>\n",
       "      <td>0.0</td>\n",
       "      <td>0.017612</td>\n",
       "      <td>0.017612</td>\n",
       "    </tr>\n",
       "  </tbody>\n",
       "</table>\n",
       "</div>"
      ],
      "text/plain": [
       "            MarketExcess   SMB   HML   RF  EqualPortfolio  PortfolioExcess\n",
       "Date                                                                      \n",
       "2020-11-18         -0.93  0.00  0.00  0.0        0.000000         0.000000\n",
       "2020-11-19          0.59  0.48 -0.74  0.0        0.008681         0.008681\n",
       "2020-11-20         -0.51  0.68 -0.61  0.0       -0.010867        -0.010867\n",
       "2020-11-23          0.83  0.89  1.57  0.0       -0.000434        -0.000434\n",
       "2020-11-24          1.56 -0.15  2.75  0.0        0.017612         0.017612"
      ]
     },
     "execution_count": 4,
     "metadata": {},
     "output_type": "execute_result"
    }
   ],
   "source": [
    "FamaFrench_data.head()"
   ]
  },
  {
   "cell_type": "code",
   "execution_count": 5,
   "metadata": {},
   "outputs": [
    {
     "name": "stdout",
     "output_type": "stream",
     "text": [
      "Intercept       0.001014\n",
      "MarketExcess    0.012061\n",
      "SMB            -0.002154\n",
      "HML            -0.005368\n",
      "dtype: float64\n"
     ]
    }
   ],
   "source": [
    "# Fit the excess returns data to the model\n",
    "model = smf.ols(formula='PortfolioExcess ~ MarketExcess + SMB + HML', data=FamaFrench_data)\n",
    "fitted_model = model.fit()\n",
    "print(fitted_model.params)"
   ]
  },
  {
   "cell_type": "code",
   "execution_count": 6,
   "metadata": {},
   "outputs": [
    {
     "name": "stdout",
     "output_type": "stream",
     "text": [
      "The model's adjusted r-squared is 82.54%.\n"
     ]
    }
   ],
   "source": [
    "\n",
    "adjusted_r_sq = fitted_model.rsquared_adj\n",
    "print(\"The model's adjusted r-squared is {:.2f}\".format(adjusted_r_sq*100)+\"%.\")"
   ]
  },
  {
   "cell_type": "code",
   "execution_count": 7,
   "metadata": {},
   "outputs": [
    {
     "name": "stdout",
     "output_type": "stream",
     "text": [
      "The SMB coefficient is -0.0021540054176143186 and is significant.\n",
      "The HML coefficient is -0.0053682633229130815 and is significant.\n"
     ]
    }
   ],
   "source": [
    "\n",
    "# Are the factor coeffients statistically significant?\n",
    "# SMB coeffiecient is neg(-) and significant --> portfolio dominated by large caps\n",
    "# HML coeffiecient is neg(-) and significant --> portfolio dominated by popular stocks\n",
    "def pval_significance(factor):\n",
    "    pval = fitted_model.pvalues[factor]\n",
    "    if pval < 0.05:\n",
    "        significant_msg = 'significant.'\n",
    "    else:\n",
    "        significant_msg = 'not significant.'\n",
    "    factor_coefficient = fitted_model.params[factor]\n",
    "    print(\"The \"+factor+\" coefficient is \"+str(factor_coefficient)+\" and is \"+significant_msg)\n",
    "    return 0\n",
    "\n",
    "factors = ['SMB', 'HML']\n",
    "for f in factors:\n",
    "    pval_significance(f)"
   ]
  },
  {
   "cell_type": "code",
   "execution_count": 8,
   "metadata": {},
   "outputs": [
    {
     "name": "stdout",
     "output_type": "stream",
     "text": [
      "The portfolio's positive alpha is 29.10%.\n"
     ]
    }
   ],
   "source": [
    "\n",
    "# Positive alpha is construed as outperformance due to skill or timing, not due to luck or the broad market\n",
    "pos_alpha = fitted_model.params['Intercept']\n",
    "pos_alpha_annualised = ((1+pos_alpha)**252) - 1\n",
    "print(\"The portfolio's positive alpha is {:.2f}\".format(pos_alpha_annualised*100)+\"%.\")"
   ]
  },
  {
   "cell_type": "markdown",
   "metadata": {},
   "source": [
    "# Fama-French 5 Factor Model"
   ]
  },
  {
   "cell_type": "markdown",
   "metadata": {},
   "source": [
    "Fama and French extended their model to 5 factors in, with 2 extra factors being added. More information can be found in their paper, \"A Five-Factor Asset Pricing Model\" (2014).\n",
    "\n",
    "$ R_P = RFR + \\beta_M(R_M - RFR) + b_{SMB} \\cdot SMB + b_{HML} \\cdot HML + b_{RMW} \\cdot RMW + b_{CMA} \\cdot CMA + \\alpha$,\n",
    "\n",
    "where:\n",
    "- $RMW$ is the robust minus weak operating profitability factor,\n",
    "- $CMA$ is the conservative minus aggressive investment factor.\n",
    "\n",
    "It is worth noting that some scholars, such as Cliff Asness, suggested Momentum as a potential factor in 2016 (see Fama on Momentum:https://www.aqr.com/Insights/Perspectives/Fama-on-Momentum). Fama and French disagreed. The 5-Factor model has also been criticised for other shortcomings, such as failing to explain returns results in the UK."
   ]
  },
  {
   "cell_type": "code",
   "execution_count": 9,
   "metadata": {},
   "outputs": [],
   "source": [
    "\n",
    "# Load FF 5 factor data\n",
    "FF_5factor_data = pd.read_csv('data/FF_5factor_daily.csv', parse_dates=['Date'])\n",
    "FF_5factor_data.set_index('Date', inplace=True)\n",
    "FF_5factor_data = pd.merge(FF_5factor_data, stocks_df[['EqualPortfolio']], left_on='Date', right_on='Date')\n",
    "FF_5factor_data.rename(columns={'Mkt-RF':'MarketExcess'}, inplace=True)\n",
    "FF_5factor_data['PortfolioExcess'] = FF_5factor_data['EqualPortfolio'] - FF_5factor_data['RF']"
   ]
  },
  {
   "cell_type": "code",
   "execution_count": 10,
   "metadata": {},
   "outputs": [
    {
     "data": {
      "text/html": [
       "<div>\n",
       "<style scoped>\n",
       "    .dataframe tbody tr th:only-of-type {\n",
       "        vertical-align: middle;\n",
       "    }\n",
       "\n",
       "    .dataframe tbody tr th {\n",
       "        vertical-align: top;\n",
       "    }\n",
       "\n",
       "    .dataframe thead th {\n",
       "        text-align: right;\n",
       "    }\n",
       "</style>\n",
       "<table border=\"1\" class=\"dataframe\">\n",
       "  <thead>\n",
       "    <tr style=\"text-align: right;\">\n",
       "      <th></th>\n",
       "      <th>MarketExcess</th>\n",
       "      <th>SMB</th>\n",
       "      <th>HML</th>\n",
       "      <th>RMW</th>\n",
       "      <th>CMA</th>\n",
       "      <th>RF</th>\n",
       "      <th>EqualPortfolio</th>\n",
       "      <th>PortfolioExcess</th>\n",
       "    </tr>\n",
       "    <tr>\n",
       "      <th>Date</th>\n",
       "      <th></th>\n",
       "      <th></th>\n",
       "      <th></th>\n",
       "      <th></th>\n",
       "      <th></th>\n",
       "      <th></th>\n",
       "      <th></th>\n",
       "      <th></th>\n",
       "    </tr>\n",
       "  </thead>\n",
       "  <tbody>\n",
       "    <tr>\n",
       "      <th>2020-11-18</th>\n",
       "      <td>-0.93</td>\n",
       "      <td>-0.03</td>\n",
       "      <td>0.00</td>\n",
       "      <td>0.07</td>\n",
       "      <td>-0.40</td>\n",
       "      <td>0.0</td>\n",
       "      <td>0.000000</td>\n",
       "      <td>0.000000</td>\n",
       "    </tr>\n",
       "    <tr>\n",
       "      <th>2020-11-19</th>\n",
       "      <td>0.59</td>\n",
       "      <td>0.29</td>\n",
       "      <td>-0.74</td>\n",
       "      <td>-0.64</td>\n",
       "      <td>-0.20</td>\n",
       "      <td>0.0</td>\n",
       "      <td>0.008681</td>\n",
       "      <td>0.008681</td>\n",
       "    </tr>\n",
       "    <tr>\n",
       "      <th>2020-11-20</th>\n",
       "      <td>-0.51</td>\n",
       "      <td>0.60</td>\n",
       "      <td>-0.61</td>\n",
       "      <td>-0.73</td>\n",
       "      <td>-0.11</td>\n",
       "      <td>0.0</td>\n",
       "      <td>-0.010867</td>\n",
       "      <td>-0.010867</td>\n",
       "    </tr>\n",
       "    <tr>\n",
       "      <th>2020-11-23</th>\n",
       "      <td>0.83</td>\n",
       "      <td>1.42</td>\n",
       "      <td>1.57</td>\n",
       "      <td>0.31</td>\n",
       "      <td>0.05</td>\n",
       "      <td>0.0</td>\n",
       "      <td>-0.000434</td>\n",
       "      <td>-0.000434</td>\n",
       "    </tr>\n",
       "    <tr>\n",
       "      <th>2020-11-24</th>\n",
       "      <td>1.56</td>\n",
       "      <td>0.48</td>\n",
       "      <td>2.75</td>\n",
       "      <td>0.53</td>\n",
       "      <td>0.53</td>\n",
       "      <td>0.0</td>\n",
       "      <td>0.017612</td>\n",
       "      <td>0.017612</td>\n",
       "    </tr>\n",
       "  </tbody>\n",
       "</table>\n",
       "</div>"
      ],
      "text/plain": [
       "            MarketExcess   SMB   HML   RMW   CMA   RF  EqualPortfolio  \\\n",
       "Date                                                                    \n",
       "2020-11-18         -0.93 -0.03  0.00  0.07 -0.40  0.0        0.000000   \n",
       "2020-11-19          0.59  0.29 -0.74 -0.64 -0.20  0.0        0.008681   \n",
       "2020-11-20         -0.51  0.60 -0.61 -0.73 -0.11  0.0       -0.010867   \n",
       "2020-11-23          0.83  1.42  1.57  0.31  0.05  0.0       -0.000434   \n",
       "2020-11-24          1.56  0.48  2.75  0.53  0.53  0.0        0.017612   \n",
       "\n",
       "            PortfolioExcess  \n",
       "Date                         \n",
       "2020-11-18         0.000000  \n",
       "2020-11-19         0.008681  \n",
       "2020-11-20        -0.010867  \n",
       "2020-11-23        -0.000434  \n",
       "2020-11-24         0.017612  "
      ]
     },
     "execution_count": 10,
     "metadata": {},
     "output_type": "execute_result"
    }
   ],
   "source": [
    "FF_5factor_data.head()"
   ]
  },
  {
   "cell_type": "code",
   "execution_count": 11,
   "metadata": {},
   "outputs": [
    {
     "name": "stdout",
     "output_type": "stream",
     "text": [
      "Intercept       0.000979\n",
      "MarketExcess    0.012205\n",
      "SMB            -0.002174\n",
      "HML            -0.005089\n",
      "RMW             0.000655\n",
      "CMA             0.000106\n",
      "dtype: float64\n"
     ]
    }
   ],
   "source": [
    "\n",
    "model = smf.ols(formula='PortfolioExcess ~ MarketExcess + SMB + HML + RMW + CMA', data=FF_5factor_data)\n",
    "fitted_model = model.fit()\n",
    "print(fitted_model.params)"
   ]
  },
  {
   "cell_type": "code",
   "execution_count": 12,
   "metadata": {},
   "outputs": [
    {
     "name": "stdout",
     "output_type": "stream",
     "text": [
      "The model's adjusted r-squared is 82.92%.\n"
     ]
    }
   ],
   "source": [
    "\n",
    "# NOTE: Adding more factors increases model performance very marginally\n",
    "adjusted_r_sq = fitted_model.rsquared_adj\n",
    "print(\"The model's adjusted r-squared is {:.2f}\".format(adjusted_r_sq*100)+\"%.\")"
   ]
  },
  {
   "cell_type": "code",
   "execution_count": 13,
   "metadata": {},
   "outputs": [
    {
     "name": "stdout",
     "output_type": "stream",
     "text": [
      "The RMW coefficient is 0.0006547954241482954 and is not significant.\n",
      "The CMA coefficient is 0.0001061740485300681 and is not significant.\n"
     ]
    }
   ],
   "source": [
    "\n",
    "# NOTE: Although positively influencing the model result, the new factors are not statistically significant\n",
    "def pval_significance(factor):\n",
    "    pval = fitted_model.pvalues[factor]\n",
    "    if pval < 0.05:\n",
    "        significant_msg = 'significant.'\n",
    "    else:\n",
    "        significant_msg = 'not significant.'\n",
    "    factor_coefficient = fitted_model.params[factor]\n",
    "    print(\"The \"+factor+\" coefficient is \"+str(factor_coefficient)+\" and is \"+significant_msg)\n",
    "    return 0\n",
    "\n",
    "factors = ['RMW', 'CMA']\n",
    "for f in factors:\n",
    "    pval_significance(f)"
   ]
  },
  {
   "cell_type": "code",
   "execution_count": 14,
   "metadata": {},
   "outputs": [
    {
     "name": "stdout",
     "output_type": "stream",
     "text": [
      "The portfolio's positive alpha is 27.96%.\n"
     ]
    }
   ],
   "source": [
    "\n",
    "# NOTE: More factors have led to a lower portfolio alpha, as more of the returns are now being explained away\n",
    "pos_alpha = fitted_model.params['Intercept']\n",
    "pos_alpha_annualised = ((1+pos_alpha)**252) - 1\n",
    "print(\"The portfolio's positive alpha is {:.2f}\".format(pos_alpha_annualised*100)+\"%.\")"
   ]
  },
  {
   "cell_type": "code",
   "execution_count": null,
   "metadata": {},
   "outputs": [],
   "source": []
  }
 ],
 "metadata": {
  "kernelspec": {
   "display_name": "Rules vs Random (PhD)",
   "language": "python",
   "name": "rules_vs_random"
  },
  "language_info": {
   "codemirror_mode": {
    "name": "ipython",
    "version": 3
   },
   "file_extension": ".py",
   "mimetype": "text/x-python",
   "name": "python",
   "nbconvert_exporter": "python",
   "pygments_lexer": "ipython3",
   "version": "3.7.11"
  }
 },
 "nbformat": 4,
 "nbformat_minor": 2
}
