{
 "cells": [
  {
   "cell_type": "code",
   "execution_count": 1,
   "metadata": {},
   "outputs": [],
   "source": [
    "\n",
    "import numpy as np\n",
    "import pandas as pd\n",
    "from scipy.stats import skew, kurtosis"
   ]
  },
  {
   "cell_type": "code",
   "execution_count": 2,
   "metadata": {},
   "outputs": [],
   "source": [
    "prices = pd.read_csv('BTC-USD.csv', parse_dates=['Date'])\n",
    "prices = prices.sort_values(by='Date')\n",
    "prices.set_index('Date', inplace=True)"
   ]
  },
  {
   "cell_type": "code",
   "execution_count": 3,
   "metadata": {},
   "outputs": [],
   "source": [
    "prices['SimpleReturns'] = prices['Adj Close'].pct_change()"
   ]
  },
  {
   "cell_type": "markdown",
   "metadata": {},
   "source": [
    "# First moment is the mean, mu"
   ]
  },
  {
   "cell_type": "code",
   "execution_count": 4,
   "metadata": {},
   "outputs": [
    {
     "name": "stdout",
     "output_type": "stream",
     "text": [
      "Mean daily return is 0.44%.\n"
     ]
    }
   ],
   "source": [
    "\n",
    "mean_return = np.mean(prices.SimpleReturns)\n",
    "print(\"Mean daily return is {:.2f}\".format(mean_return*100)+\"%.\")"
   ]
  },
  {
   "cell_type": "code",
   "execution_count": 5,
   "metadata": {},
   "outputs": [
    {
     "name": "stdout",
     "output_type": "stream",
     "text": [
      "Estimated monthly return is 9.77%.\n"
     ]
    }
   ],
   "source": [
    "# Mean monthly return (assuming 21 trading days in the month)\n",
    "monthly_return = ((1+mean_return)**21)-1\n",
    "print(\"Estimated monthly return is {:.2f}\".format(monthly_return*100)+\"%.\")"
   ]
  },
  {
   "cell_type": "code",
   "execution_count": 6,
   "metadata": {},
   "outputs": [
    {
     "name": "stdout",
     "output_type": "stream",
     "text": [
      "Mean annualised return is 206.15%.\n"
     ]
    }
   ],
   "source": [
    "# Annualised return (assuming 252 trading days in the year)\n",
    "annualised_mean_return = ((1+mean_return)**252)-1\n",
    "print(\"Mean annualised return is {:.2f}\".format(annualised_mean_return*100)+\"%.\")"
   ]
  },
  {
   "cell_type": "markdown",
   "metadata": {},
   "source": [
    "# Second moment is the standard deviation, a measure of volatility in finance\n",
    "# Variance = (standard deviation)^2"
   ]
  },
  {
   "cell_type": "code",
   "execution_count": 7,
   "metadata": {},
   "outputs": [
    {
     "name": "stdout",
     "output_type": "stream",
     "text": [
      "Daily volatility is 4.22%.\n"
     ]
    }
   ],
   "source": [
    "\n",
    "vol = np.std(prices.SimpleReturns)\n",
    "print(\"Daily volatility is {:.2f}\".format(vol*100)+\"%.\")"
   ]
  },
  {
   "cell_type": "code",
   "execution_count": 8,
   "metadata": {},
   "outputs": [
    {
     "name": "stdout",
     "output_type": "stream",
     "text": [
      "Daily variance is 0.18%.\n"
     ]
    }
   ],
   "source": [
    "var = vol**2\n",
    "print(\"Daily variance is {:.2f}\".format(var*100)+\"%.\")"
   ]
  },
  {
   "cell_type": "code",
   "execution_count": 9,
   "metadata": {},
   "outputs": [
    {
     "name": "stdout",
     "output_type": "stream",
     "text": [
      "Estimated monthly volatility is 19.35%.\n"
     ]
    }
   ],
   "source": [
    "# Monthly volatility \n",
    "monthly_vol = vol * np.sqrt(21)\n",
    "print(\"Estimated monthly volatility is {:.2f}\".format(monthly_vol*100)+\"%.\")"
   ]
  },
  {
   "cell_type": "code",
   "execution_count": 10,
   "metadata": {},
   "outputs": [
    {
     "name": "stdout",
     "output_type": "stream",
     "text": [
      "Annualised volatility is 67.02%.\n"
     ]
    }
   ],
   "source": [
    "# Annualised volatility\n",
    "annualised_vol = vol * np.sqrt(252)\n",
    "print(\"Annualised volatility is {:.2f}\".format(annualised_vol*100)+\"%.\")"
   ]
  },
  {
   "cell_type": "markdown",
   "metadata": {},
   "source": [
    "# Third moment is skewness"
   ]
  },
  {
   "cell_type": "code",
   "execution_count": 11,
   "metadata": {},
   "outputs": [
    {
     "name": "stdout",
     "output_type": "stream",
     "text": [
      "Skewness is 0.07.\n"
     ]
    }
   ],
   "source": [
    "\n",
    "# Skewness is a measure of where most of the values in the distribution are located\n",
    "# In finance, we look for positive skewness ~ more positive returns than negative\n",
    "# A normal distribution has skewness = 0; skewness > 0 indicates possibility of non-normally distributed data\n",
    "daily_data_skewness = skew(prices.SimpleReturns.dropna())\n",
    "print(\"Skewness is {:.2f}\".format(daily_data_skewness)+\".\")"
   ]
  },
  {
   "cell_type": "markdown",
   "metadata": {},
   "source": [
    "# Fourth moment is kurtosis"
   ]
  },
  {
   "cell_type": "code",
   "execution_count": 12,
   "metadata": {},
   "outputs": [
    {
     "name": "stdout",
     "output_type": "stream",
     "text": [
      "Excess kurtosis is 1.45.\n"
     ]
    }
   ],
   "source": [
    "# Kurtosis is a measure of the fatness of the tails of the distribution\n",
    "# A normal distribution has kurtosis = 3\n",
    "# In finance, we look for leptokurtic returns, i.e. returns with kurtosis > 3, also known as positive excess kurtosis\n",
    "# NOTE: In scipy, this function computes excess kurtosis (i.e., Estimated Kurtosis - 3). Add 3 to get Estimated Kurtosis.\n",
    "# NOTE: High excess kurtosis is a measure of high risk!\n",
    "daily_data_kurtosis = kurtosis(prices.SimpleReturns.dropna())\n",
    "print(\"Excess kurtosis is {:.2f}\".format(daily_data_kurtosis)+\".\")"
   ]
  },
  {
   "cell_type": "markdown",
   "metadata": {},
   "source": [
    "# Normality tests"
   ]
  },
  {
   "cell_type": "code",
   "execution_count": 13,
   "metadata": {},
   "outputs": [],
   "source": [
    "# If skewness > 0 and excess kurtosis > 0, it is highly likely that the data are not normally distributed\n",
    "# If the moments are close to 0, we can perform a statistical test for normality using the Shapiro-Wilk test\n",
    "# The null hypothesis of the Shapiro-Wilk test is that the data ARE normally distributed"
   ]
  },
  {
   "cell_type": "code",
   "execution_count": 14,
   "metadata": {},
   "outputs": [
    {
     "name": "stdout",
     "output_type": "stream",
     "text": [
      "p-value: 0.0002277282765135169\n",
      "Null hypothesis is rejected. The data are likely not normal.\n"
     ]
    }
   ],
   "source": [
    "from scipy import stats\n",
    "p_value = stats.shapiro(prices.SimpleReturns.dropna())[1]\n",
    "print(\"p-value:\", p_value)\n",
    "if p_value <= 0.05:\n",
    "    print(\"Null hypothesis is rejected. The data are likely not normal.\")\n",
    "else:\n",
    "    print(\"Null hypothesis not rejected. The data are likely normal.\")"
   ]
  },
  {
   "cell_type": "code",
   "execution_count": null,
   "metadata": {},
   "outputs": [],
   "source": []
  }
 ],
 "metadata": {
  "kernelspec": {
   "display_name": "Rules vs Random (PhD)",
   "language": "python",
   "name": "rules_vs_random"
  },
  "language_info": {
   "codemirror_mode": {
    "name": "ipython",
    "version": 3
   },
   "file_extension": ".py",
   "mimetype": "text/x-python",
   "name": "python",
   "nbconvert_exporter": "python",
   "pygments_lexer": "ipython3",
   "version": "3.7.11"
  }
 },
 "nbformat": 4,
 "nbformat_minor": 2
}
