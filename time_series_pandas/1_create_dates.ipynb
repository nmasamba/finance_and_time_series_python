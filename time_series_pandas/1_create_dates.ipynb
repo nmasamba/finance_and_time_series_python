{
 "cells": [
  {
   "cell_type": "code",
   "execution_count": 1,
   "metadata": {},
   "outputs": [],
   "source": [
    "\n",
    "import numpy as np\n",
    "import pandas as pd\n",
    "import datetime as dt"
   ]
  },
  {
   "cell_type": "code",
   "execution_count": 2,
   "metadata": {},
   "outputs": [
    {
     "data": {
      "text/plain": [
       "pandas._libs.tslibs.timestamps.Timestamp"
      ]
     },
     "execution_count": 2,
     "metadata": {},
     "output_type": "execute_result"
    }
   ],
   "source": [
    "\n",
    "# datetime attribute of datetime (I know!) can be used to manually create datetime objects\n",
    "# this converts dates from strings to objects that can be manipulated according to time\n",
    "timestamp_obj = pd.Timestamp(dt.datetime(2022,1,1))\n",
    "type(timestamp_obj)"
   ]
  },
  {
   "cell_type": "code",
   "execution_count": 3,
   "metadata": {},
   "outputs": [
    {
     "name": "stdout",
     "output_type": "stream",
     "text": [
      "2022\n",
      "Saturday\n"
     ]
    }
   ],
   "source": [
    "\n",
    "# datetime object attributes store time-specific information\n",
    "print(timestamp_obj.year)\n",
    "print(timestamp_obj.day_name())"
   ]
  },
  {
   "cell_type": "code",
   "execution_count": 4,
   "metadata": {},
   "outputs": [
    {
     "name": "stdout",
     "output_type": "stream",
     "text": [
      "2022-04\n",
      "2022-04-30\n",
      "2022-05-02\n"
     ]
    }
   ],
   "source": [
    "\n",
    "# a timestamp object can be used to represent different time frequencies\n",
    "period_default = pd.Period('2022-04') # defaults to month end\n",
    "print(period_default)\n",
    "\n",
    "period_converted = period_default.asfreq('D') # convert to daily frequency\n",
    "print(period_converted)\n",
    "\n",
    "print(period_converted.to_timestamp().to_period('B')) # convert to business daily frequency"
   ]
  },
  {
   "cell_type": "code",
   "execution_count": 5,
   "metadata": {},
   "outputs": [
    {
     "name": "stdout",
     "output_type": "stream",
     "text": [
      "2022-05-02\n",
      "2022-01-22 00:00:00\n"
     ]
    }
   ],
   "source": [
    "\n",
    "# arithmetic can also be performed using period and frequency methods\n",
    "print(period_converted + 2)\n",
    "print(pd.Timestamp('2022-01-01') + pd.Timedelta(3, unit='W'))"
   ]
  },
  {
   "cell_type": "code",
   "execution_count": 6,
   "metadata": {},
   "outputs": [
    {
     "name": "stdout",
     "output_type": "stream",
     "text": [
      "DatetimeIndex(['2020-01-01', '2020-01-02', '2020-01-03', '2020-01-04',\n",
      "               '2020-01-05', '2020-01-06', '2020-01-07'],\n",
      "              dtype='datetime64[ns]', freq='D') \n",
      "\n",
      "2020-01-01    2\n",
      "2020-01-02    3\n",
      "2020-01-03    4\n",
      "2020-01-04    5\n",
      "2020-01-05    6\n",
      "2020-01-06    0\n",
      "2020-01-07    1\n",
      "Freq: D, dtype: int64\n",
      "2020-01-01    Wednesday\n",
      "2020-01-02     Thursday\n",
      "2020-01-03       Friday\n",
      "2020-01-04     Saturday\n",
      "2020-01-05       Sunday\n",
      "2020-01-06       Monday\n",
      "2020-01-07      Tuesday\n",
      "Freq: D, dtype: object\n"
     ]
    }
   ],
   "source": [
    "\n",
    "# create sequence of dates (rather than an single date)\n",
    "seven_days = pd.date_range(start='2020-1-1', periods=7, freq='D').to_series()\n",
    "\n",
    "print(seven_days.index, '\\n') # NB: created as a DateTime index\n",
    "print(seven_days.dt.dayofweek)\n",
    "print(seven_days.dt.day_name())"
   ]
  },
  {
   "cell_type": "code",
   "execution_count": 7,
   "metadata": {},
   "outputs": [
    {
     "data": {
      "text/plain": [
       "PeriodIndex(['2019-12-30/2020-01-05', '2019-12-30/2020-01-05',\n",
       "             '2019-12-30/2020-01-05', '2019-12-30/2020-01-05',\n",
       "             '2019-12-30/2020-01-05', '2020-01-06/2020-01-12',\n",
       "             '2020-01-06/2020-01-12'],\n",
       "            dtype='period[W-SUN]')"
      ]
     },
     "execution_count": 7,
     "metadata": {},
     "output_type": "execute_result"
    }
   ],
   "source": [
    "\n",
    "# convert the above series index to a different frequency\n",
    "# the PeriodIndex can be handled in the same way as dates created using pd.Period\n",
    "seven_days.index.to_period('W')"
   ]
  },
  {
   "cell_type": "code",
   "execution_count": 8,
   "metadata": {},
   "outputs": [
    {
     "data": {
      "text/html": [
       "<div>\n",
       "<style scoped>\n",
       "    .dataframe tbody tr th:only-of-type {\n",
       "        vertical-align: middle;\n",
       "    }\n",
       "\n",
       "    .dataframe tbody tr th {\n",
       "        vertical-align: top;\n",
       "    }\n",
       "\n",
       "    .dataframe thead th {\n",
       "        text-align: right;\n",
       "    }\n",
       "</style>\n",
       "<table border=\"1\" class=\"dataframe\">\n",
       "  <thead>\n",
       "    <tr style=\"text-align: right;\">\n",
       "      <th></th>\n",
       "      <th>dates</th>\n",
       "    </tr>\n",
       "  </thead>\n",
       "  <tbody>\n",
       "    <tr>\n",
       "      <th>0</th>\n",
       "      <td>2020-01-01</td>\n",
       "    </tr>\n",
       "    <tr>\n",
       "      <th>1</th>\n",
       "      <td>2020-01-02</td>\n",
       "    </tr>\n",
       "    <tr>\n",
       "      <th>2</th>\n",
       "      <td>2020-01-03</td>\n",
       "    </tr>\n",
       "    <tr>\n",
       "      <th>3</th>\n",
       "      <td>2020-01-04</td>\n",
       "    </tr>\n",
       "    <tr>\n",
       "      <th>4</th>\n",
       "      <td>2020-01-05</td>\n",
       "    </tr>\n",
       "  </tbody>\n",
       "</table>\n",
       "</div>"
      ],
      "text/plain": [
       "       dates\n",
       "0 2020-01-01\n",
       "1 2020-01-02\n",
       "2 2020-01-03\n",
       "3 2020-01-04\n",
       "4 2020-01-05"
      ]
     },
     "execution_count": 8,
     "metadata": {},
     "output_type": "execute_result"
    }
   ],
   "source": [
    "\n",
    "# create a time series using DateTimeIndex\n",
    "time_series_df = pd.DataFrame({'dates': seven_days.index})\n",
    "time_series_df.head()"
   ]
  },
  {
   "cell_type": "code",
   "execution_count": 10,
   "metadata": {},
   "outputs": [
    {
     "data": {
      "text/html": [
       "<div>\n",
       "<style scoped>\n",
       "    .dataframe tbody tr th:only-of-type {\n",
       "        vertical-align: middle;\n",
       "    }\n",
       "\n",
       "    .dataframe tbody tr th {\n",
       "        vertical-align: top;\n",
       "    }\n",
       "\n",
       "    .dataframe thead th {\n",
       "        text-align: right;\n",
       "    }\n",
       "</style>\n",
       "<table border=\"1\" class=\"dataframe\">\n",
       "  <thead>\n",
       "    <tr style=\"text-align: right;\">\n",
       "      <th></th>\n",
       "      <th>0</th>\n",
       "      <th>1</th>\n",
       "    </tr>\n",
       "  </thead>\n",
       "  <tbody>\n",
       "    <tr>\n",
       "      <th>2020-01-01</th>\n",
       "      <td>0.587973</td>\n",
       "      <td>0.329741</td>\n",
       "    </tr>\n",
       "    <tr>\n",
       "      <th>2020-01-02</th>\n",
       "      <td>0.202023</td>\n",
       "      <td>0.257211</td>\n",
       "    </tr>\n",
       "    <tr>\n",
       "      <th>2020-01-03</th>\n",
       "      <td>0.551180</td>\n",
       "      <td>0.661039</td>\n",
       "    </tr>\n",
       "    <tr>\n",
       "      <th>2020-01-04</th>\n",
       "      <td>0.212973</td>\n",
       "      <td>0.535388</td>\n",
       "    </tr>\n",
       "    <tr>\n",
       "      <th>2020-01-05</th>\n",
       "      <td>0.931402</td>\n",
       "      <td>0.167961</td>\n",
       "    </tr>\n",
       "  </tbody>\n",
       "</table>\n",
       "</div>"
      ],
      "text/plain": [
       "                   0         1\n",
       "2020-01-01  0.587973  0.329741\n",
       "2020-01-02  0.202023  0.257211\n",
       "2020-01-03  0.551180  0.661039\n",
       "2020-01-04  0.212973  0.535388\n",
       "2020-01-05  0.931402  0.167961"
      ]
     },
     "execution_count": 10,
     "metadata": {},
     "output_type": "execute_result"
    }
   ],
   "source": [
    "\n",
    "# More useful: create random data with the timeestamps\n",
    "data = np.random.random(size=(seven_days.shape[0], 2))\n",
    "time_series_df = pd.DataFrame(data, index=seven_days.index)\n",
    "time_series_df.head()"
   ]
  },
  {
   "cell_type": "code",
   "execution_count": null,
   "metadata": {},
   "outputs": [],
   "source": []
  },
  {
   "cell_type": "code",
   "execution_count": null,
   "metadata": {},
   "outputs": [],
   "source": []
  }
 ],
 "metadata": {
  "kernelspec": {
   "display_name": "Rules vs Random (PhD)",
   "language": "python",
   "name": "rules_vs_random"
  },
  "language_info": {
   "codemirror_mode": {
    "name": "ipython",
    "version": 3
   },
   "file_extension": ".py",
   "mimetype": "text/x-python",
   "name": "python",
   "nbconvert_exporter": "python",
   "pygments_lexer": "ipython3",
   "version": "3.7.11"
  }
 },
 "nbformat": 4,
 "nbformat_minor": 2
}
