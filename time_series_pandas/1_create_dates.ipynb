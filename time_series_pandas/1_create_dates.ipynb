{
 "cells": [
  {
   "cell_type": "code",
   "execution_count": 1,
   "metadata": {},
   "outputs": [],
   "source": [
    "\n",
    "import pandas as pd\n",
    "import datetime as dt"
   ]
  },
  {
   "cell_type": "code",
   "execution_count": null,
   "metadata": {},
   "outputs": [],
   "source": []
  },
  {
   "cell_type": "code",
   "execution_count": null,
   "metadata": {},
   "outputs": [],
   "source": []
  },
  {
   "cell_type": "code",
   "execution_count": null,
   "metadata": {},
   "outputs": [],
   "source": []
  },
  {
   "cell_type": "code",
   "execution_count": 7,
   "metadata": {},
   "outputs": [
    {
     "name": "stdout",
     "output_type": "stream",
     "text": [
      "2020-01-01    2\n",
      "2020-01-02    3\n",
      "2020-01-03    4\n",
      "2020-01-04    5\n",
      "2020-01-05    6\n",
      "2020-01-06    0\n",
      "2020-01-07    1\n",
      "Freq: D, dtype: int64\n",
      "2020-01-01    Wednesday\n",
      "2020-01-02     Thursday\n",
      "2020-01-03       Friday\n",
      "2020-01-04     Saturday\n",
      "2020-01-05       Sunday\n",
      "2020-01-06       Monday\n",
      "2020-01-07      Tuesday\n",
      "Freq: D, dtype: object\n"
     ]
    }
   ],
   "source": [
    "\n",
    "seven_days = pd.date_range(start='2020-1-1', periods=7, freq='D').to_series()\n",
    "\n",
    "print(seven_days.dt.dayofweek)\n",
    "print(seven_days.dt.day_name())"
   ]
  },
  {
   "cell_type": "code",
   "execution_count": null,
   "metadata": {},
   "outputs": [],
   "source": []
  }
 ],
 "metadata": {
  "kernelspec": {
   "display_name": "Rules vs Random (PhD)",
   "language": "python",
   "name": "rules_vs_random"
  },
  "language_info": {
   "codemirror_mode": {
    "name": "ipython",
    "version": 3
   },
   "file_extension": ".py",
   "mimetype": "text/x-python",
   "name": "python",
   "nbconvert_exporter": "python",
   "pygments_lexer": "ipython3",
   "version": "3.7.11"
  }
 },
 "nbformat": 4,
 "nbformat_minor": 2
}
