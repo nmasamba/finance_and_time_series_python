{
 "cells": [
  {
   "cell_type": "code",
   "execution_count": 1,
   "metadata": {},
   "outputs": [],
   "source": [
    "\n",
    "import pandas as pd\n",
    "import seaborn as sns\n",
    "import matplotlib.pyplot as plt"
   ]
  },
  {
   "cell_type": "code",
   "execution_count": 3,
   "metadata": {},
   "outputs": [
    {
     "data": {
      "text/html": [
       "<div>\n",
       "<style scoped>\n",
       "    .dataframe tbody tr th:only-of-type {\n",
       "        vertical-align: middle;\n",
       "    }\n",
       "\n",
       "    .dataframe tbody tr th {\n",
       "        vertical-align: top;\n",
       "    }\n",
       "\n",
       "    .dataframe thead th {\n",
       "        text-align: right;\n",
       "    }\n",
       "</style>\n",
       "<table border=\"1\" class=\"dataframe\">\n",
       "  <thead>\n",
       "    <tr style=\"text-align: right;\">\n",
       "      <th></th>\n",
       "      <th>AAPL</th>\n",
       "      <th>AMZN</th>\n",
       "      <th>IBM</th>\n",
       "      <th>WMT</th>\n",
       "      <th>XOM</th>\n",
       "    </tr>\n",
       "    <tr>\n",
       "      <th>Date</th>\n",
       "      <th></th>\n",
       "      <th></th>\n",
       "      <th></th>\n",
       "      <th></th>\n",
       "      <th></th>\n",
       "    </tr>\n",
       "  </thead>\n",
       "  <tbody>\n",
       "    <tr>\n",
       "      <th>2001-07-05</th>\n",
       "      <td>1.66</td>\n",
       "      <td>15.27</td>\n",
       "      <td>NaN</td>\n",
       "      <td>NaN</td>\n",
       "      <td>NaN</td>\n",
       "    </tr>\n",
       "    <tr>\n",
       "      <th>2001-07-06</th>\n",
       "      <td>1.57</td>\n",
       "      <td>15.27</td>\n",
       "      <td>106.50</td>\n",
       "      <td>47.34</td>\n",
       "      <td>43.40</td>\n",
       "    </tr>\n",
       "    <tr>\n",
       "      <th>2001-07-09</th>\n",
       "      <td>1.62</td>\n",
       "      <td>15.81</td>\n",
       "      <td>104.72</td>\n",
       "      <td>48.25</td>\n",
       "      <td>43.36</td>\n",
       "    </tr>\n",
       "    <tr>\n",
       "      <th>2001-07-10</th>\n",
       "      <td>1.51</td>\n",
       "      <td>15.61</td>\n",
       "      <td>101.96</td>\n",
       "      <td>47.50</td>\n",
       "      <td>42.88</td>\n",
       "    </tr>\n",
       "    <tr>\n",
       "      <th>2001-07-11</th>\n",
       "      <td>1.61</td>\n",
       "      <td>15.34</td>\n",
       "      <td>103.85</td>\n",
       "      <td>48.85</td>\n",
       "      <td>42.48</td>\n",
       "    </tr>\n",
       "  </tbody>\n",
       "</table>\n",
       "</div>"
      ],
      "text/plain": [
       "            AAPL   AMZN     IBM    WMT    XOM\n",
       "Date                                         \n",
       "2001-07-05  1.66  15.27     NaN    NaN    NaN\n",
       "2001-07-06  1.57  15.27  106.50  47.34  43.40\n",
       "2001-07-09  1.62  15.81  104.72  48.25  43.36\n",
       "2001-07-10  1.51  15.61  101.96  47.50  42.88\n",
       "2001-07-11  1.61  15.34  103.85  48.85  42.48"
      ]
     },
     "execution_count": 3,
     "metadata": {},
     "output_type": "execute_result"
    }
   ],
   "source": [
    "\n",
    "data = pd.read_csv('data/stock_data/5_stocks.csv', parse_dates=['Date'], index_col='Date')\n",
    "data.head()"
   ]
  },
  {
   "cell_type": "code",
   "execution_count": 4,
   "metadata": {},
   "outputs": [
    {
     "name": "stdout",
     "output_type": "stream",
     "text": [
      "<class 'pandas.core.frame.DataFrame'>\n",
      "DatetimeIndex: 4001 entries, 2001-07-05 to 2017-05-31\n",
      "Data columns (total 5 columns):\n",
      " #   Column  Non-Null Count  Dtype  \n",
      "---  ------  --------------  -----  \n",
      " 0   AAPL    4000 non-null   float64\n",
      " 1   AMZN    4000 non-null   float64\n",
      " 2   IBM     4000 non-null   float64\n",
      " 3   WMT     4000 non-null   float64\n",
      " 4   XOM     4000 non-null   float64\n",
      "dtypes: float64(5)\n",
      "memory usage: 187.5 KB\n"
     ]
    }
   ],
   "source": [
    "data.info()"
   ]
  },
  {
   "cell_type": "code",
   "execution_count": 5,
   "metadata": {},
   "outputs": [
    {
     "data": {
      "text/html": [
       "<div>\n",
       "<style scoped>\n",
       "    .dataframe tbody tr th:only-of-type {\n",
       "        vertical-align: middle;\n",
       "    }\n",
       "\n",
       "    .dataframe tbody tr th {\n",
       "        vertical-align: top;\n",
       "    }\n",
       "\n",
       "    .dataframe thead th {\n",
       "        text-align: right;\n",
       "    }\n",
       "</style>\n",
       "<table border=\"1\" class=\"dataframe\">\n",
       "  <thead>\n",
       "    <tr style=\"text-align: right;\">\n",
       "      <th></th>\n",
       "      <th>AAPL</th>\n",
       "      <th>AMZN</th>\n",
       "      <th>IBM</th>\n",
       "      <th>WMT</th>\n",
       "      <th>XOM</th>\n",
       "    </tr>\n",
       "    <tr>\n",
       "      <th>Date</th>\n",
       "      <th></th>\n",
       "      <th></th>\n",
       "      <th></th>\n",
       "      <th></th>\n",
       "      <th></th>\n",
       "    </tr>\n",
       "  </thead>\n",
       "  <tbody>\n",
       "    <tr>\n",
       "      <th>2001-12-31</th>\n",
       "      <td>1.56</td>\n",
       "      <td>10.82</td>\n",
       "      <td>120.96</td>\n",
       "      <td>57.55</td>\n",
       "      <td>39.30</td>\n",
       "    </tr>\n",
       "    <tr>\n",
       "      <th>2002-12-31</th>\n",
       "      <td>1.02</td>\n",
       "      <td>18.89</td>\n",
       "      <td>77.50</td>\n",
       "      <td>50.51</td>\n",
       "      <td>34.94</td>\n",
       "    </tr>\n",
       "    <tr>\n",
       "      <th>2003-12-31</th>\n",
       "      <td>1.53</td>\n",
       "      <td>52.62</td>\n",
       "      <td>92.68</td>\n",
       "      <td>53.05</td>\n",
       "      <td>41.00</td>\n",
       "    </tr>\n",
       "    <tr>\n",
       "      <th>2004-12-31</th>\n",
       "      <td>4.60</td>\n",
       "      <td>44.29</td>\n",
       "      <td>98.58</td>\n",
       "      <td>52.82</td>\n",
       "      <td>51.26</td>\n",
       "    </tr>\n",
       "    <tr>\n",
       "      <th>2005-12-31</th>\n",
       "      <td>10.27</td>\n",
       "      <td>47.15</td>\n",
       "      <td>82.20</td>\n",
       "      <td>46.80</td>\n",
       "      <td>56.17</td>\n",
       "    </tr>\n",
       "  </tbody>\n",
       "</table>\n",
       "</div>"
      ],
      "text/plain": [
       "             AAPL   AMZN     IBM    WMT    XOM\n",
       "Date                                          \n",
       "2001-12-31   1.56  10.82  120.96  57.55  39.30\n",
       "2002-12-31   1.02  18.89   77.50  50.51  34.94\n",
       "2003-12-31   1.53  52.62   92.68  53.05  41.00\n",
       "2004-12-31   4.60  44.29   98.58  52.82  51.26\n",
       "2005-12-31  10.27  47.15   82.20  46.80  56.17"
      ]
     },
     "execution_count": 5,
     "metadata": {},
     "output_type": "execute_result"
    }
   ],
   "source": [
    "\n",
    "# Resample to year-end prices and select the last price from each subperiod\n",
    "annual_prices = data.resample('A').last()\n",
    "annual_prices.head()"
   ]
  },
  {
   "cell_type": "code",
   "execution_count": 6,
   "metadata": {},
   "outputs": [],
   "source": [
    "\n",
    "# Calculate annual returns\n",
    "annual_returns = annual_prices.pct_change()"
   ]
  },
  {
   "cell_type": "code",
   "execution_count": 7,
   "metadata": {},
   "outputs": [
    {
     "name": "stdout",
     "output_type": "stream",
     "text": [
      "          AAPL      AMZN       IBM       WMT       XOM\n",
      "AAPL  1.000000  0.208731  0.460568 -0.183553  0.336413\n",
      "AMZN  0.208731  1.000000  0.346407 -0.367620 -0.133965\n",
      "IBM   0.460568  0.346407  1.000000  0.155445  0.367253\n",
      "WMT  -0.183553 -0.367620  0.155445  1.000000  0.178833\n",
      "XOM   0.336413 -0.133965  0.367253  0.178833  1.000000\n"
     ]
    }
   ],
   "source": [
    "\n",
    "# Correlation matrix based on annual returns\n",
    "correlations = annual_returns.corr()\n",
    "print(correlations)"
   ]
  },
  {
   "cell_type": "code",
   "execution_count": 8,
   "metadata": {},
   "outputs": [
    {
     "data": {
      "image/png": "[encoded data removed]",
      "text/plain": [
       "<Figure size 640x480 with 2 Axes>"
      ]
     },
     "metadata": {},
     "output_type": "display_data"
    }
   ],
   "source": [
    "\n",
    "# Visualize heatmap\n",
    "sns.heatmap(correlations, annot=True)\n",
    "plt.show()"
   ]
  },
  {
   "cell_type": "code",
   "execution_count": null,
   "metadata": {},
   "outputs": [],
   "source": []
  }
 ],
 "metadata": {
  "kernelspec": {
   "display_name": "Rules vs Random (PhD)",
   "language": "python",
   "name": "rules_vs_random"
  },
  "language_info": {
   "codemirror_mode": {
    "name": "ipython",
    "version": 3
   },
   "file_extension": ".py",
   "mimetype": "text/x-python",
   "name": "python",
   "nbconvert_exporter": "python",
   "pygments_lexer": "ipython3",
   "version": "3.7.11"
  }
 },
 "nbformat": 4,
 "nbformat_minor": 2
}
