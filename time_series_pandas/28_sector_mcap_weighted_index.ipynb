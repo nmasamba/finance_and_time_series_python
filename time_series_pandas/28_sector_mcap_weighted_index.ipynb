{
 "cells": [
  {
   "cell_type": "code",
   "execution_count": 1,
   "metadata": {},
   "outputs": [],
   "source": [
    "\n",
    "import pandas as pd\n",
    "import numpy as np\n",
    "import matplotlib.pyplot as plt"
   ]
  },
  {
   "cell_type": "code",
   "execution_count": 2,
   "metadata": {},
   "outputs": [
    {
     "name": "stderr",
     "output_type": "stream",
     "text": [
      "/Users/nyashamasamba/anaconda3/envs/rules_vs_random/lib/python3.7/site-packages/openpyxl/worksheet/_reader.py:300: UserWarning: Unknown extension is not supported and will be removed\n",
      "  warn(msg)\n"
     ]
    }
   ],
   "source": [
    "\n",
    "listings = pd.read_excel('data/stock_data/listings.xlsx', sheet_name='nyse', na_values='n/a')"
   ]
  },
  {
   "cell_type": "code",
   "execution_count": 3,
   "metadata": {},
   "outputs": [
    {
     "data": {
      "text/html": [
       "<div>\n",
       "<style scoped>\n",
       "    .dataframe tbody tr th:only-of-type {\n",
       "        vertical-align: middle;\n",
       "    }\n",
       "\n",
       "    .dataframe tbody tr th {\n",
       "        vertical-align: top;\n",
       "    }\n",
       "\n",
       "    .dataframe thead th {\n",
       "        text-align: right;\n",
       "    }\n",
       "</style>\n",
       "<table border=\"1\" class=\"dataframe\">\n",
       "  <thead>\n",
       "    <tr style=\"text-align: right;\">\n",
       "      <th></th>\n",
       "      <th>Stock Symbol</th>\n",
       "      <th>Company Name</th>\n",
       "      <th>Last Sale</th>\n",
       "      <th>Market Capitalization</th>\n",
       "      <th>IPO Year</th>\n",
       "      <th>Sector</th>\n",
       "      <th>Industry</th>\n",
       "    </tr>\n",
       "  </thead>\n",
       "  <tbody>\n",
       "    <tr>\n",
       "      <th>0</th>\n",
       "      <td>DDD</td>\n",
       "      <td>3D Systems Corporation</td>\n",
       "      <td>14.48</td>\n",
       "      <td>1.647165e+09</td>\n",
       "      <td>NaN</td>\n",
       "      <td>Technology</td>\n",
       "      <td>Computer Software: Prepackaged Software</td>\n",
       "    </tr>\n",
       "    <tr>\n",
       "      <th>1</th>\n",
       "      <td>MMM</td>\n",
       "      <td>3M Company</td>\n",
       "      <td>188.65</td>\n",
       "      <td>1.127366e+11</td>\n",
       "      <td>NaN</td>\n",
       "      <td>Health Care</td>\n",
       "      <td>Medical/Dental Instruments</td>\n",
       "    </tr>\n",
       "    <tr>\n",
       "      <th>2</th>\n",
       "      <td>WBAI</td>\n",
       "      <td>500.com Limited</td>\n",
       "      <td>13.96</td>\n",
       "      <td>5.793129e+08</td>\n",
       "      <td>2013.0</td>\n",
       "      <td>Consumer Services</td>\n",
       "      <td>Services-Misc. Amusement &amp; Recreation</td>\n",
       "    </tr>\n",
       "    <tr>\n",
       "      <th>3</th>\n",
       "      <td>WUBA</td>\n",
       "      <td>58.com Inc.</td>\n",
       "      <td>36.11</td>\n",
       "      <td>5.225238e+09</td>\n",
       "      <td>2013.0</td>\n",
       "      <td>Technology</td>\n",
       "      <td>Computer Software: Programming, Data Processing</td>\n",
       "    </tr>\n",
       "    <tr>\n",
       "      <th>4</th>\n",
       "      <td>AHC</td>\n",
       "      <td>A.H. Belo Corporation</td>\n",
       "      <td>6.20</td>\n",
       "      <td>1.347351e+08</td>\n",
       "      <td>NaN</td>\n",
       "      <td>Consumer Services</td>\n",
       "      <td>Newspapers/Magazines</td>\n",
       "    </tr>\n",
       "    <tr>\n",
       "      <th>...</th>\n",
       "      <td>...</td>\n",
       "      <td>...</td>\n",
       "      <td>...</td>\n",
       "      <td>...</td>\n",
       "      <td>...</td>\n",
       "      <td>...</td>\n",
       "      <td>...</td>\n",
       "    </tr>\n",
       "    <tr>\n",
       "      <th>3142</th>\n",
       "      <td>ZB^H</td>\n",
       "      <td>Zions Bancorporation</td>\n",
       "      <td>25.30</td>\n",
       "      <td>0.000000e+00</td>\n",
       "      <td>NaN</td>\n",
       "      <td>NaN</td>\n",
       "      <td>NaN</td>\n",
       "    </tr>\n",
       "    <tr>\n",
       "      <th>3143</th>\n",
       "      <td>ZBK</td>\n",
       "      <td>Zions Bancorporation</td>\n",
       "      <td>28.86</td>\n",
       "      <td>0.000000e+00</td>\n",
       "      <td>NaN</td>\n",
       "      <td>Finance</td>\n",
       "      <td>Major Banks</td>\n",
       "    </tr>\n",
       "    <tr>\n",
       "      <th>3144</th>\n",
       "      <td>ZOES</td>\n",
       "      <td>Zoe&amp;#39;s Kitchen, Inc.</td>\n",
       "      <td>17.07</td>\n",
       "      <td>3.325561e+08</td>\n",
       "      <td>2014.0</td>\n",
       "      <td>Consumer Services</td>\n",
       "      <td>Restaurants</td>\n",
       "    </tr>\n",
       "    <tr>\n",
       "      <th>3145</th>\n",
       "      <td>ZTS</td>\n",
       "      <td>Zoetis Inc.</td>\n",
       "      <td>53.10</td>\n",
       "      <td>2.610544e+10</td>\n",
       "      <td>2013.0</td>\n",
       "      <td>Health Care</td>\n",
       "      <td>Major Pharmaceuticals</td>\n",
       "    </tr>\n",
       "    <tr>\n",
       "      <th>3146</th>\n",
       "      <td>ZTO</td>\n",
       "      <td>ZTO Express (Cayman) Inc.</td>\n",
       "      <td>12.63</td>\n",
       "      <td>9.237663e+09</td>\n",
       "      <td>2016.0</td>\n",
       "      <td>Transportation</td>\n",
       "      <td>Trucking Freight/Courier Services</td>\n",
       "    </tr>\n",
       "  </tbody>\n",
       "</table>\n",
       "<p>3147 rows × 7 columns</p>\n",
       "</div>"
      ],
      "text/plain": [
       "     Stock Symbol               Company Name  Last Sale  \\\n",
       "0             DDD     3D Systems Corporation      14.48   \n",
       "1             MMM                 3M Company     188.65   \n",
       "2            WBAI            500.com Limited      13.96   \n",
       "3            WUBA                58.com Inc.      36.11   \n",
       "4             AHC      A.H. Belo Corporation       6.20   \n",
       "...           ...                        ...        ...   \n",
       "3142         ZB^H       Zions Bancorporation      25.30   \n",
       "3143          ZBK       Zions Bancorporation      28.86   \n",
       "3144         ZOES    Zoe&#39;s Kitchen, Inc.      17.07   \n",
       "3145          ZTS                Zoetis Inc.      53.10   \n",
       "3146          ZTO  ZTO Express (Cayman) Inc.      12.63   \n",
       "\n",
       "      Market Capitalization  IPO Year             Sector  \\\n",
       "0              1.647165e+09       NaN         Technology   \n",
       "1              1.127366e+11       NaN        Health Care   \n",
       "2              5.793129e+08    2013.0  Consumer Services   \n",
       "3              5.225238e+09    2013.0         Technology   \n",
       "4              1.347351e+08       NaN  Consumer Services   \n",
       "...                     ...       ...                ...   \n",
       "3142           0.000000e+00       NaN                NaN   \n",
       "3143           0.000000e+00       NaN            Finance   \n",
       "3144           3.325561e+08    2014.0  Consumer Services   \n",
       "3145           2.610544e+10    2013.0        Health Care   \n",
       "3146           9.237663e+09    2016.0     Transportation   \n",
       "\n",
       "                                             Industry  \n",
       "0             Computer Software: Prepackaged Software  \n",
       "1                          Medical/Dental Instruments  \n",
       "2               Services-Misc. Amusement & Recreation  \n",
       "3     Computer Software: Programming, Data Processing  \n",
       "4                                Newspapers/Magazines  \n",
       "...                                               ...  \n",
       "3142                                              NaN  \n",
       "3143                                      Major Banks  \n",
       "3144                                      Restaurants  \n",
       "3145                            Major Pharmaceuticals  \n",
       "3146                Trucking Freight/Courier Services  \n",
       "\n",
       "[3147 rows x 7 columns]"
      ]
     },
     "execution_count": 3,
     "metadata": {},
     "output_type": "execute_result"
    }
   ],
   "source": [
    "listings"
   ]
  },
  {
   "cell_type": "code",
   "execution_count": 4,
   "metadata": {},
   "outputs": [
    {
     "name": "stdout",
     "output_type": "stream",
     "text": [
      "<class 'pandas.core.frame.DataFrame'>\n",
      "RangeIndex: 3147 entries, 0 to 3146\n",
      "Data columns (total 7 columns):\n",
      " #   Column                 Non-Null Count  Dtype  \n",
      "---  ------                 --------------  -----  \n",
      " 0   Stock Symbol           3147 non-null   object \n",
      " 1   Company Name           3147 non-null   object \n",
      " 2   Last Sale              3079 non-null   float64\n",
      " 3   Market Capitalization  3147 non-null   float64\n",
      " 4   IPO Year               1361 non-null   float64\n",
      " 5   Sector                 2177 non-null   object \n",
      " 6   Industry               2177 non-null   object \n",
      "dtypes: float64(3), object(4)\n",
      "memory usage: 172.2+ KB\n"
     ]
    }
   ],
   "source": [
    "listings.info()"
   ]
  },
  {
   "cell_type": "code",
   "execution_count": 5,
   "metadata": {},
   "outputs": [
    {
     "data": {
      "text/html": [
       "<div>\n",
       "<style scoped>\n",
       "    .dataframe tbody tr th:only-of-type {\n",
       "        vertical-align: middle;\n",
       "    }\n",
       "\n",
       "    .dataframe tbody tr th {\n",
       "        vertical-align: top;\n",
       "    }\n",
       "\n",
       "    .dataframe thead th {\n",
       "        text-align: right;\n",
       "    }\n",
       "</style>\n",
       "<table border=\"1\" class=\"dataframe\">\n",
       "  <thead>\n",
       "    <tr style=\"text-align: right;\">\n",
       "      <th></th>\n",
       "      <th>Company Name</th>\n",
       "      <th>Last Sale</th>\n",
       "      <th>Market Capitalization</th>\n",
       "      <th>IPO Year</th>\n",
       "      <th>Sector</th>\n",
       "      <th>Industry</th>\n",
       "    </tr>\n",
       "    <tr>\n",
       "      <th>Stock Symbol</th>\n",
       "      <th></th>\n",
       "      <th></th>\n",
       "      <th></th>\n",
       "      <th></th>\n",
       "      <th></th>\n",
       "      <th></th>\n",
       "    </tr>\n",
       "  </thead>\n",
       "  <tbody>\n",
       "    <tr>\n",
       "      <th>DDD</th>\n",
       "      <td>3D Systems Corporation</td>\n",
       "      <td>14.48</td>\n",
       "      <td>1.647165e+09</td>\n",
       "      <td>NaN</td>\n",
       "      <td>Technology</td>\n",
       "      <td>Computer Software: Prepackaged Software</td>\n",
       "    </tr>\n",
       "    <tr>\n",
       "      <th>MMM</th>\n",
       "      <td>3M Company</td>\n",
       "      <td>188.65</td>\n",
       "      <td>1.127366e+11</td>\n",
       "      <td>NaN</td>\n",
       "      <td>Health Care</td>\n",
       "      <td>Medical/Dental Instruments</td>\n",
       "    </tr>\n",
       "    <tr>\n",
       "      <th>WBAI</th>\n",
       "      <td>500.com Limited</td>\n",
       "      <td>13.96</td>\n",
       "      <td>5.793129e+08</td>\n",
       "      <td>2013.0</td>\n",
       "      <td>Consumer Services</td>\n",
       "      <td>Services-Misc. Amusement &amp; Recreation</td>\n",
       "    </tr>\n",
       "    <tr>\n",
       "      <th>WUBA</th>\n",
       "      <td>58.com Inc.</td>\n",
       "      <td>36.11</td>\n",
       "      <td>5.225238e+09</td>\n",
       "      <td>2013.0</td>\n",
       "      <td>Technology</td>\n",
       "      <td>Computer Software: Programming, Data Processing</td>\n",
       "    </tr>\n",
       "    <tr>\n",
       "      <th>AHC</th>\n",
       "      <td>A.H. Belo Corporation</td>\n",
       "      <td>6.20</td>\n",
       "      <td>1.347351e+08</td>\n",
       "      <td>NaN</td>\n",
       "      <td>Consumer Services</td>\n",
       "      <td>Newspapers/Magazines</td>\n",
       "    </tr>\n",
       "  </tbody>\n",
       "</table>\n",
       "</div>"
      ],
      "text/plain": [
       "                        Company Name  Last Sale  Market Capitalization  \\\n",
       "Stock Symbol                                                             \n",
       "DDD           3D Systems Corporation      14.48           1.647165e+09   \n",
       "MMM                       3M Company     188.65           1.127366e+11   \n",
       "WBAI                 500.com Limited      13.96           5.793129e+08   \n",
       "WUBA                     58.com Inc.      36.11           5.225238e+09   \n",
       "AHC            A.H. Belo Corporation       6.20           1.347351e+08   \n",
       "\n",
       "              IPO Year             Sector  \\\n",
       "Stock Symbol                                \n",
       "DDD                NaN         Technology   \n",
       "MMM                NaN        Health Care   \n",
       "WBAI            2013.0  Consumer Services   \n",
       "WUBA            2013.0         Technology   \n",
       "AHC                NaN  Consumer Services   \n",
       "\n",
       "                                                     Industry  \n",
       "Stock Symbol                                                   \n",
       "DDD                   Computer Software: Prepackaged Software  \n",
       "MMM                                Medical/Dental Instruments  \n",
       "WBAI                    Services-Misc. Amusement & Recreation  \n",
       "WUBA          Computer Software: Programming, Data Processing  \n",
       "AHC                                      Newspapers/Magazines  "
      ]
     },
     "execution_count": 5,
     "metadata": {},
     "output_type": "execute_result"
    }
   ],
   "source": [
    "\n",
    "# The index is currently a RangeIndex\n",
    "# Make the Stock Symbol column the index\n",
    "listings.set_index('Stock Symbol', inplace=True)\n",
    "listings.head()"
   ]
  },
  {
   "cell_type": "code",
   "execution_count": 6,
   "metadata": {},
   "outputs": [],
   "source": [
    "\n",
    "# Drop rows with missing sector data\n",
    "listings.dropna(subset=['Sector'], inplace=True)"
   ]
  },
  {
   "cell_type": "code",
   "execution_count": 7,
   "metadata": {},
   "outputs": [
    {
     "data": {
      "text/html": [
       "<div>\n",
       "<style scoped>\n",
       "    .dataframe tbody tr th:only-of-type {\n",
       "        vertical-align: middle;\n",
       "    }\n",
       "\n",
       "    .dataframe tbody tr th {\n",
       "        vertical-align: top;\n",
       "    }\n",
       "\n",
       "    .dataframe thead th {\n",
       "        text-align: right;\n",
       "    }\n",
       "</style>\n",
       "<table border=\"1\" class=\"dataframe\">\n",
       "  <thead>\n",
       "    <tr style=\"text-align: right;\">\n",
       "      <th></th>\n",
       "      <th>Company Name</th>\n",
       "      <th>Last Sale</th>\n",
       "      <th>Market Capitalization</th>\n",
       "      <th>IPO Year</th>\n",
       "      <th>Sector</th>\n",
       "      <th>Industry</th>\n",
       "    </tr>\n",
       "    <tr>\n",
       "      <th>Stock Symbol</th>\n",
       "      <th></th>\n",
       "      <th></th>\n",
       "      <th></th>\n",
       "      <th></th>\n",
       "      <th></th>\n",
       "      <th></th>\n",
       "    </tr>\n",
       "  </thead>\n",
       "  <tbody>\n",
       "    <tr>\n",
       "      <th>WBAI</th>\n",
       "      <td>500.com Limited</td>\n",
       "      <td>13.96</td>\n",
       "      <td>5.793129e+08</td>\n",
       "      <td>2013.0</td>\n",
       "      <td>Consumer Services</td>\n",
       "      <td>Services-Misc. Amusement &amp; Recreation</td>\n",
       "    </tr>\n",
       "    <tr>\n",
       "      <th>WUBA</th>\n",
       "      <td>58.com Inc.</td>\n",
       "      <td>36.11</td>\n",
       "      <td>5.225238e+09</td>\n",
       "      <td>2013.0</td>\n",
       "      <td>Technology</td>\n",
       "      <td>Computer Software: Programming, Data Processing</td>\n",
       "    </tr>\n",
       "    <tr>\n",
       "      <th>ATEN</th>\n",
       "      <td>A10 Networks, Inc.</td>\n",
       "      <td>8.72</td>\n",
       "      <td>5.959822e+08</td>\n",
       "      <td>2014.0</td>\n",
       "      <td>Technology</td>\n",
       "      <td>Computer Communications Equipment</td>\n",
       "    </tr>\n",
       "    <tr>\n",
       "      <th>AAC</th>\n",
       "      <td>AAC Holdings, Inc.</td>\n",
       "      <td>8.08</td>\n",
       "      <td>1.914187e+08</td>\n",
       "      <td>2014.0</td>\n",
       "      <td>Health Care</td>\n",
       "      <td>Medical Specialities</td>\n",
       "    </tr>\n",
       "    <tr>\n",
       "      <th>ABBV</th>\n",
       "      <td>AbbVie Inc.</td>\n",
       "      <td>64.13</td>\n",
       "      <td>1.021961e+11</td>\n",
       "      <td>2012.0</td>\n",
       "      <td>Health Care</td>\n",
       "      <td>Major Pharmaceuticals</td>\n",
       "    </tr>\n",
       "  </tbody>\n",
       "</table>\n",
       "</div>"
      ],
      "text/plain": [
       "                    Company Name  Last Sale  Market Capitalization  IPO Year  \\\n",
       "Stock Symbol                                                                   \n",
       "WBAI             500.com Limited      13.96           5.793129e+08    2013.0   \n",
       "WUBA                 58.com Inc.      36.11           5.225238e+09    2013.0   \n",
       "ATEN          A10 Networks, Inc.       8.72           5.959822e+08    2014.0   \n",
       "AAC           AAC Holdings, Inc.       8.08           1.914187e+08    2014.0   \n",
       "ABBV                 AbbVie Inc.      64.13           1.021961e+11    2012.0   \n",
       "\n",
       "                         Sector  \\\n",
       "Stock Symbol                      \n",
       "WBAI          Consumer Services   \n",
       "WUBA                 Technology   \n",
       "ATEN                 Technology   \n",
       "AAC                 Health Care   \n",
       "ABBV                Health Care   \n",
       "\n",
       "                                                     Industry  \n",
       "Stock Symbol                                                   \n",
       "WBAI                    Services-Misc. Amusement & Recreation  \n",
       "WUBA          Computer Software: Programming, Data Processing  \n",
       "ATEN                        Computer Communications Equipment  \n",
       "AAC                                      Medical Specialities  \n",
       "ABBV                                    Major Pharmaceuticals  "
      ]
     },
     "execution_count": 7,
     "metadata": {},
     "output_type": "execute_result"
    }
   ],
   "source": [
    "\n",
    "# Select companies with IPO Year before 2019\n",
    "listings = listings[listings['IPO Year'] < 2019]\n",
    "listings.head()"
   ]
  },
  {
   "cell_type": "code",
   "execution_count": 8,
   "metadata": {},
   "outputs": [
    {
     "name": "stdout",
     "output_type": "stream",
     "text": [
      "<class 'pandas.core.frame.DataFrame'>\n",
      "Index: 967 entries, WBAI to ZTO\n",
      "Data columns (total 6 columns):\n",
      " #   Column                 Non-Null Count  Dtype  \n",
      "---  ------                 --------------  -----  \n",
      " 0   Company Name           967 non-null    object \n",
      " 1   Last Sale              967 non-null    float64\n",
      " 2   Market Capitalization  967 non-null    float64\n",
      " 3   IPO Year               967 non-null    float64\n",
      " 4   Sector                 967 non-null    object \n",
      " 5   Industry               967 non-null    object \n",
      "dtypes: float64(3), object(3)\n",
      "memory usage: 52.9+ KB\n"
     ]
    }
   ],
   "source": [
    "listings.info()"
   ]
  },
  {
   "cell_type": "code",
   "execution_count": 9,
   "metadata": {},
   "outputs": [
    {
     "name": "stdout",
     "output_type": "stream",
     "text": [
      "Sector\n",
      "Consumer Services        240\n",
      "Finance                  132\n",
      "Energy                   113\n",
      "Technology               108\n",
      "Public Utilities          76\n",
      "Basic Industries          66\n",
      "Capital Goods             61\n",
      "Consumer Non-Durables     47\n",
      "Health Care               43\n",
      "Transportation            37\n",
      "Miscellaneous             25\n",
      "Consumer Durables         19\n",
      "dtype: int64\n"
     ]
    }
   ],
   "source": [
    "\n",
    "# Show the number of companies per sector\n",
    "print(listings.groupby('Sector').size().sort_values(ascending=False))"
   ]
  },
  {
   "cell_type": "code",
   "execution_count": 10,
   "metadata": {},
   "outputs": [
    {
     "name": "stdout",
     "output_type": "stream",
     "text": [
      "Sector                 Stock Symbol\n",
      "Miscellaneous          BABA            2.755250e+11\n",
      "Technology             ORCL            1.810461e+11\n",
      "Health Care            ABBV            1.021961e+11\n",
      "Transportation         UPS             9.018089e+10\n",
      "Finance                GS              8.884059e+10\n",
      "Consumer Non-Durables  ABEV            8.824020e+10\n",
      "Basic Industries       RIO             7.043148e+10\n",
      "Public Utilities       TEF             5.460981e+10\n",
      "Capital Goods          GM              5.008634e+10\n",
      "Consumer Services      LVS             4.438430e+10\n",
      "Energy                 PAA             2.222300e+10\n",
      "Consumer Durables      WRK             1.235490e+10\n",
      "Name: Market Capitalization, dtype: float64\n"
     ]
    }
   ],
   "source": [
    "\n",
    "# Select largest company for each sector\n",
    "# These will make up our sector market-cap-weighted index\n",
    "components = listings.groupby(['Sector'])['Market Capitalization'].nlargest(1)\n",
    "print(components.sort_values(ascending=False)) # sorted by market cap"
   ]
  },
  {
   "cell_type": "code",
   "execution_count": 11,
   "metadata": {},
   "outputs": [
    {
     "name": "stdout",
     "output_type": "stream",
     "text": [
      "Index(['RIO', 'GM', 'WRK', 'ABEV', 'LVS', 'PAA', 'GS', 'ABBV', 'BABA', 'TEF',\n",
      "       'ORCL', 'UPS'],\n",
      "      dtype='object', name='Stock Symbol')\n"
     ]
    }
   ],
   "source": [
    "\n",
    "# Select stock symbols and print the result\n",
    "tickers = components.index.get_level_values('Stock Symbol')\n",
    "print(tickers)"
   ]
  },
  {
   "cell_type": "code",
   "execution_count": 12,
   "metadata": {},
   "outputs": [
    {
     "name": "stdout",
     "output_type": "stream",
     "text": [
      "                                    Company Name  Market Capitalization  \\\n",
      "Stock Symbol                                                              \n",
      "BABA               Alibaba Group Holding Limited           2.755250e+11   \n",
      "ORCL                          Oracle Corporation           1.810461e+11   \n",
      "ABBV                                 AbbVie Inc.           1.021961e+11   \n",
      "UPS                  United Parcel Service, Inc.           9.018089e+10   \n",
      "GS               Goldman Sachs Group, Inc. (The)           8.884059e+10   \n",
      "ABEV                                  Ambev S.A.           8.824020e+10   \n",
      "RIO                                Rio Tinto Plc           7.043148e+10   \n",
      "TEF                                Telefonica SA           5.460981e+10   \n",
      "GM                        General Motors Company           5.008634e+10   \n",
      "LVS                        Las Vegas Sands Corp.           4.438430e+10   \n",
      "PAA           Plains All American Pipeline, L.P.           2.222300e+10   \n",
      "WRK                             Westrock Company           1.235490e+10   \n",
      "\n",
      "              Last Sale  \n",
      "Stock Symbol             \n",
      "BABA             110.21  \n",
      "ORCL              44.00  \n",
      "ABBV              64.13  \n",
      "UPS              103.74  \n",
      "GS               223.32  \n",
      "ABEV               5.62  \n",
      "RIO               38.94  \n",
      "TEF               10.84  \n",
      "GM                33.39  \n",
      "LVS               55.90  \n",
      "PAA               30.72  \n",
      "WRK               49.34  \n"
     ]
    }
   ],
   "source": [
    "\n",
    "# Print company name, market cap, and last price for each component \n",
    "info_cols = ['Company Name', 'Market Capitalization', 'Last Sale']\n",
    "print(listings.loc[tickers, info_cols].sort_values('Market Capitalization', ascending=False))"
   ]
  },
  {
   "cell_type": "code",
   "execution_count": 13,
   "metadata": {},
   "outputs": [
    {
     "name": "stdout",
     "output_type": "stream",
     "text": [
      "                   AAPL          AMGN          AMZN         CPRT           EL  \\\n",
      "Date                                                                            \n",
      "2010-01-04  160386.7278  42475.580670  63893.145750  2090.225938  8892.669154   \n",
      "2010-01-05  160701.5202  42107.635585  64270.110538  2090.225938  8859.692631   \n",
      "2010-01-06  158130.7156  41791.202811  63105.814231  2081.038131  8885.341038   \n",
      "2010-01-07  157815.9232  41408.539922  62032.180340  2067.256422  8998.926841   \n",
      "2010-01-08  158865.2312  41776.485008  63711.820915  2076.444228  9035.567423   \n",
      "\n",
      "                      GS      ILMN            MA           PAA            RIO  \\\n",
      "Date                                                                            \n",
      "2010-01-04  68854.242342  4469.465  28476.143688  19531.934838  101342.466626   \n",
      "2010-01-05  70071.563705  4440.205  28398.521801  19748.956336  102916.051241   \n",
      "2010-01-06  69323.666920  4713.786  28343.077596  19741.722286  106063.220471   \n",
      "2010-01-07  70680.224387  4794.251  28154.567299  19502.998638  106081.307650   \n",
      "2010-01-08  69343.557792  4849.845  28165.656140  19568.105088  107256.974316   \n",
      "\n",
      "                      TEF           UPS  \n",
      "Date                                     \n",
      "2010-01-04  143829.332465  50575.708420  \n",
      "2010-01-05  143728.576365  50662.638135  \n",
      "2010-01-06  142217.234868  50288.840359  \n",
      "2010-01-07  139799.088473  49906.349611  \n",
      "2010-01-08  138892.283574  52305.609756  \n"
     ]
    }
   ],
   "source": [
    "\n",
    "# We'll need current prices to calculate returns for the companies in our index\n",
    "stock_prices = pd.read_csv('data/stock_data/market_cap_series.csv', parse_dates=['Date'], index_col='Date')\n",
    "print(stock_prices.head())"
   ]
  },
  {
   "cell_type": "code",
   "execution_count": 14,
   "metadata": {},
   "outputs": [
    {
     "name": "stdout",
     "output_type": "stream",
     "text": [
      "<class 'pandas.core.frame.DataFrame'>\n",
      "DatetimeIndex: 1762 entries, 2010-01-04 to 2016-12-30\n",
      "Data columns (total 12 columns):\n",
      " #   Column  Non-Null Count  Dtype  \n",
      "---  ------  --------------  -----  \n",
      " 0   AAPL    1761 non-null   float64\n",
      " 1   AMGN    1761 non-null   float64\n",
      " 2   AMZN    1761 non-null   float64\n",
      " 3   CPRT    1761 non-null   float64\n",
      " 4   EL      1762 non-null   float64\n",
      " 5   GS      1762 non-null   float64\n",
      " 6   ILMN    1761 non-null   float64\n",
      " 7   MA      1762 non-null   float64\n",
      " 8   PAA     1762 non-null   float64\n",
      " 9   RIO     1762 non-null   float64\n",
      " 10  TEF     1762 non-null   float64\n",
      " 11  UPS     1762 non-null   float64\n",
      "dtypes: float64(12)\n",
      "memory usage: 179.0 KB\n"
     ]
    }
   ],
   "source": [
    "stock_prices.info()"
   ]
  },
  {
   "cell_type": "code",
   "execution_count": 15,
   "metadata": {},
   "outputs": [
    {
     "data": {
      "image/png": "[encoded data removed]",
      "text/plain": [
       "<Figure size 640x480 with 1 Axes>"
      ]
     },
     "metadata": {},
     "output_type": "display_data"
    }
   ],
   "source": [
    "\n",
    "# Calculate the returns\n",
    "price_return = stock_prices.iloc[-1].div(stock_prices.iloc[0]).sub(1).mul(100)\n",
    "\n",
    "# Plot horizontal bar chart of sorted price_return   \n",
    "price_return.sort_values().plot(kind='barh', title='Stock Price Returns')\n",
    "plt.show()"
   ]
  },
  {
   "cell_type": "code",
   "execution_count": null,
   "metadata": {},
   "outputs": [],
   "source": []
  }
 ],
 "metadata": {
  "kernelspec": {
   "display_name": "Rules vs Random (PhD)",
   "language": "python",
   "name": "rules_vs_random"
  },
  "language_info": {
   "codemirror_mode": {
    "name": "ipython",
    "version": 3
   },
   "file_extension": ".py",
   "mimetype": "text/x-python",
   "name": "python",
   "nbconvert_exporter": "python",
   "pygments_lexer": "ipython3",
   "version": "3.7.11"
  }
 },
 "nbformat": 4,
 "nbformat_minor": 2
}
