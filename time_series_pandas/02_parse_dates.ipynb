{
 "cells": [
  {
   "cell_type": "code",
   "execution_count": 1,
   "metadata": {},
   "outputs": [],
   "source": [
    "\n",
    "import pandas as pd\n",
    "import matplotlib.pyplot as plt"
   ]
  },
  {
   "cell_type": "code",
   "execution_count": 2,
   "metadata": {},
   "outputs": [
    {
     "data": {
      "text/html": [
       "<div>\n",
       "<style scoped>\n",
       "    .dataframe tbody tr th:only-of-type {\n",
       "        vertical-align: middle;\n",
       "    }\n",
       "\n",
       "    .dataframe tbody tr th {\n",
       "        vertical-align: top;\n",
       "    }\n",
       "\n",
       "    .dataframe thead th {\n",
       "        text-align: right;\n",
       "    }\n",
       "</style>\n",
       "<table border=\"1\" class=\"dataframe\">\n",
       "  <thead>\n",
       "    <tr style=\"text-align: right;\">\n",
       "      <th></th>\n",
       "      <th>date</th>\n",
       "      <th>ozone</th>\n",
       "      <th>pm25</th>\n",
       "      <th>co</th>\n",
       "    </tr>\n",
       "  </thead>\n",
       "  <tbody>\n",
       "    <tr>\n",
       "      <th>0</th>\n",
       "      <td>1999-07-01</td>\n",
       "      <td>0.012024</td>\n",
       "      <td>20.000000</td>\n",
       "      <td>1.300686</td>\n",
       "    </tr>\n",
       "    <tr>\n",
       "      <th>1</th>\n",
       "      <td>1999-07-02</td>\n",
       "      <td>0.027699</td>\n",
       "      <td>23.900000</td>\n",
       "      <td>0.958194</td>\n",
       "    </tr>\n",
       "    <tr>\n",
       "      <th>2</th>\n",
       "      <td>1999-07-03</td>\n",
       "      <td>0.043969</td>\n",
       "      <td>36.700000</td>\n",
       "      <td>1.194444</td>\n",
       "    </tr>\n",
       "    <tr>\n",
       "      <th>3</th>\n",
       "      <td>1999-07-04</td>\n",
       "      <td>0.035161</td>\n",
       "      <td>39.000000</td>\n",
       "      <td>1.081548</td>\n",
       "    </tr>\n",
       "    <tr>\n",
       "      <th>4</th>\n",
       "      <td>1999-07-05</td>\n",
       "      <td>0.038359</td>\n",
       "      <td>28.171429</td>\n",
       "      <td>0.939583</td>\n",
       "    </tr>\n",
       "    <tr>\n",
       "      <th>5</th>\n",
       "      <td>1999-07-06</td>\n",
       "      <td>0.051271</td>\n",
       "      <td>31.800000</td>\n",
       "      <td>1.066146</td>\n",
       "    </tr>\n",
       "    <tr>\n",
       "      <th>6</th>\n",
       "      <td>1999-07-08</td>\n",
       "      <td>0.029166</td>\n",
       "      <td>9.083333</td>\n",
       "      <td>0.896572</td>\n",
       "    </tr>\n",
       "    <tr>\n",
       "      <th>7</th>\n",
       "      <td>1999-07-09</td>\n",
       "      <td>0.038955</td>\n",
       "      <td>18.300000</td>\n",
       "      <td>1.045126</td>\n",
       "    </tr>\n",
       "    <tr>\n",
       "      <th>8</th>\n",
       "      <td>1999-07-10</td>\n",
       "      <td>0.034542</td>\n",
       "      <td>17.600000</td>\n",
       "      <td>0.908036</td>\n",
       "    </tr>\n",
       "    <tr>\n",
       "      <th>9</th>\n",
       "      <td>1999-07-11</td>\n",
       "      <td>0.023297</td>\n",
       "      <td>3.600000</td>\n",
       "      <td>0.688691</td>\n",
       "    </tr>\n",
       "  </tbody>\n",
       "</table>\n",
       "</div>"
      ],
      "text/plain": [
       "         date     ozone       pm25        co\n",
       "0  1999-07-01  0.012024  20.000000  1.300686\n",
       "1  1999-07-02  0.027699  23.900000  0.958194\n",
       "2  1999-07-03  0.043969  36.700000  1.194444\n",
       "3  1999-07-04  0.035161  39.000000  1.081548\n",
       "4  1999-07-05  0.038359  28.171429  0.939583\n",
       "5  1999-07-06  0.051271  31.800000  1.066146\n",
       "6  1999-07-08  0.029166   9.083333  0.896572\n",
       "7  1999-07-09  0.038955  18.300000  1.045126\n",
       "8  1999-07-10  0.034542  17.600000  0.908036\n",
       "9  1999-07-11  0.023297   3.600000  0.688691"
      ]
     },
     "execution_count": 2,
     "metadata": {},
     "output_type": "execute_result"
    }
   ],
   "source": [
    "\n",
    "df = pd.read_csv('data/air_quality_data/nyc.csv')\n",
    "df.head(10)"
   ]
  },
  {
   "cell_type": "code",
   "execution_count": 3,
   "metadata": {},
   "outputs": [
    {
     "name": "stdout",
     "output_type": "stream",
     "text": [
      "<class 'pandas.core.frame.DataFrame'>\n",
      "RangeIndex: 6317 entries, 0 to 6316\n",
      "Data columns (total 4 columns):\n",
      " #   Column  Non-Null Count  Dtype  \n",
      "---  ------  --------------  -----  \n",
      " 0   date    6317 non-null   object \n",
      " 1   ozone   6317 non-null   float64\n",
      " 2   pm25    6317 non-null   float64\n",
      " 3   co      6317 non-null   float64\n",
      "dtypes: float64(3), object(1)\n",
      "memory usage: 197.5+ KB\n"
     ]
    }
   ],
   "source": [
    "\n",
    "# Note that the date column has not been parsed correctly on load\n",
    "df.info()"
   ]
  },
  {
   "cell_type": "code",
   "execution_count": 4,
   "metadata": {},
   "outputs": [
    {
     "data": {
      "text/html": [
       "<div>\n",
       "<style scoped>\n",
       "    .dataframe tbody tr th:only-of-type {\n",
       "        vertical-align: middle;\n",
       "    }\n",
       "\n",
       "    .dataframe tbody tr th {\n",
       "        vertical-align: top;\n",
       "    }\n",
       "\n",
       "    .dataframe thead th {\n",
       "        text-align: right;\n",
       "    }\n",
       "</style>\n",
       "<table border=\"1\" class=\"dataframe\">\n",
       "  <thead>\n",
       "    <tr style=\"text-align: right;\">\n",
       "      <th></th>\n",
       "      <th>date</th>\n",
       "      <th>ozone</th>\n",
       "      <th>pm25</th>\n",
       "      <th>co</th>\n",
       "    </tr>\n",
       "  </thead>\n",
       "  <tbody>\n",
       "    <tr>\n",
       "      <th>0</th>\n",
       "      <td>1999-07-01</td>\n",
       "      <td>0.012024</td>\n",
       "      <td>20.000000</td>\n",
       "      <td>1.300686</td>\n",
       "    </tr>\n",
       "    <tr>\n",
       "      <th>1</th>\n",
       "      <td>1999-07-02</td>\n",
       "      <td>0.027699</td>\n",
       "      <td>23.900000</td>\n",
       "      <td>0.958194</td>\n",
       "    </tr>\n",
       "    <tr>\n",
       "      <th>2</th>\n",
       "      <td>1999-07-03</td>\n",
       "      <td>0.043969</td>\n",
       "      <td>36.700000</td>\n",
       "      <td>1.194444</td>\n",
       "    </tr>\n",
       "    <tr>\n",
       "      <th>3</th>\n",
       "      <td>1999-07-04</td>\n",
       "      <td>0.035161</td>\n",
       "      <td>39.000000</td>\n",
       "      <td>1.081548</td>\n",
       "    </tr>\n",
       "    <tr>\n",
       "      <th>4</th>\n",
       "      <td>1999-07-05</td>\n",
       "      <td>0.038359</td>\n",
       "      <td>28.171429</td>\n",
       "      <td>0.939583</td>\n",
       "    </tr>\n",
       "  </tbody>\n",
       "</table>\n",
       "</div>"
      ],
      "text/plain": [
       "        date     ozone       pm25        co\n",
       "0 1999-07-01  0.012024  20.000000  1.300686\n",
       "1 1999-07-02  0.027699  23.900000  0.958194\n",
       "2 1999-07-03  0.043969  36.700000  1.194444\n",
       "3 1999-07-04  0.035161  39.000000  1.081548\n",
       "4 1999-07-05  0.038359  28.171429  0.939583"
      ]
     },
     "execution_count": 4,
     "metadata": {},
     "output_type": "execute_result"
    }
   ],
   "source": [
    "\n",
    "# Parse date column as datetime\n",
    "df['date'] = pd.to_datetime(df['date'])\n",
    "df.head()"
   ]
  },
  {
   "cell_type": "code",
   "execution_count": 5,
   "metadata": {},
   "outputs": [
    {
     "name": "stdout",
     "output_type": "stream",
     "text": [
      "<class 'pandas.core.frame.DataFrame'>\n",
      "RangeIndex: 6317 entries, 0 to 6316\n",
      "Data columns (total 4 columns):\n",
      " #   Column  Non-Null Count  Dtype         \n",
      "---  ------  --------------  -----         \n",
      " 0   date    6317 non-null   datetime64[ns]\n",
      " 1   ozone   6317 non-null   float64       \n",
      " 2   pm25    6317 non-null   float64       \n",
      " 3   co      6317 non-null   float64       \n",
      "dtypes: datetime64[ns](1), float64(3)\n",
      "memory usage: 197.5 KB\n"
     ]
    }
   ],
   "source": [
    "\n",
    "# Date correctly parsed?\n",
    "df.info()"
   ]
  },
  {
   "cell_type": "code",
   "execution_count": 6,
   "metadata": {},
   "outputs": [],
   "source": [
    "\n",
    "# Set date column as index to make the df a time series\n",
    "df.set_index('date', inplace=True)"
   ]
  },
  {
   "cell_type": "code",
   "execution_count": 7,
   "metadata": {},
   "outputs": [
    {
     "name": "stdout",
     "output_type": "stream",
     "text": [
      "<class 'pandas.core.frame.DataFrame'>\n",
      "DatetimeIndex: 6317 entries, 1999-07-01 to 2017-03-31\n",
      "Data columns (total 3 columns):\n",
      " #   Column  Non-Null Count  Dtype  \n",
      "---  ------  --------------  -----  \n",
      " 0   ozone   6317 non-null   float64\n",
      " 1   pm25    6317 non-null   float64\n",
      " 2   co      6317 non-null   float64\n",
      "dtypes: float64(3)\n",
      "memory usage: 197.4 KB\n"
     ]
    }
   ],
   "source": [
    "df.info()"
   ]
  },
  {
   "cell_type": "code",
   "execution_count": 9,
   "metadata": {},
   "outputs": [
    {
     "data": {
      "image/png": "[encoded data removed]",
      "text/plain": [
       "<Figure size 640x480 with 3 Axes>"
      ]
     },
     "metadata": {},
     "output_type": "display_data"
    }
   ],
   "source": [
    "\n",
    "# Plot time series\n",
    "df.plot(subplots=True)\n",
    "plt.show()"
   ]
  },
  {
   "cell_type": "code",
   "execution_count": 12,
   "metadata": {},
   "outputs": [
    {
     "data": {
      "text/html": [
       "<div>\n",
       "<style scoped>\n",
       "    .dataframe tbody tr th:only-of-type {\n",
       "        vertical-align: middle;\n",
       "    }\n",
       "\n",
       "    .dataframe tbody tr th {\n",
       "        vertical-align: top;\n",
       "    }\n",
       "\n",
       "    .dataframe thead th {\n",
       "        text-align: right;\n",
       "    }\n",
       "</style>\n",
       "<table border=\"1\" class=\"dataframe\">\n",
       "  <thead>\n",
       "    <tr style=\"text-align: right;\">\n",
       "      <th></th>\n",
       "      <th>ozone</th>\n",
       "      <th>pm25</th>\n",
       "      <th>co</th>\n",
       "    </tr>\n",
       "    <tr>\n",
       "      <th>date</th>\n",
       "      <th></th>\n",
       "      <th></th>\n",
       "      <th></th>\n",
       "    </tr>\n",
       "  </thead>\n",
       "  <tbody>\n",
       "    <tr>\n",
       "      <th>1999-07-01</th>\n",
       "      <td>0.012024</td>\n",
       "      <td>20.000000</td>\n",
       "      <td>1.300686</td>\n",
       "    </tr>\n",
       "    <tr>\n",
       "      <th>1999-07-02</th>\n",
       "      <td>0.027699</td>\n",
       "      <td>23.900000</td>\n",
       "      <td>0.958194</td>\n",
       "    </tr>\n",
       "    <tr>\n",
       "      <th>1999-07-03</th>\n",
       "      <td>0.043969</td>\n",
       "      <td>36.700000</td>\n",
       "      <td>1.194444</td>\n",
       "    </tr>\n",
       "    <tr>\n",
       "      <th>1999-07-04</th>\n",
       "      <td>0.035161</td>\n",
       "      <td>39.000000</td>\n",
       "      <td>1.081548</td>\n",
       "    </tr>\n",
       "    <tr>\n",
       "      <th>1999-07-05</th>\n",
       "      <td>0.038359</td>\n",
       "      <td>28.171429</td>\n",
       "      <td>0.939583</td>\n",
       "    </tr>\n",
       "    <tr>\n",
       "      <th>1999-07-06</th>\n",
       "      <td>0.051271</td>\n",
       "      <td>31.800000</td>\n",
       "      <td>1.066146</td>\n",
       "    </tr>\n",
       "    <tr>\n",
       "      <th>1999-07-08</th>\n",
       "      <td>0.029166</td>\n",
       "      <td>9.083333</td>\n",
       "      <td>0.896572</td>\n",
       "    </tr>\n",
       "    <tr>\n",
       "      <th>1999-07-09</th>\n",
       "      <td>0.038955</td>\n",
       "      <td>18.300000</td>\n",
       "      <td>1.045126</td>\n",
       "    </tr>\n",
       "    <tr>\n",
       "      <th>1999-07-10</th>\n",
       "      <td>0.034542</td>\n",
       "      <td>17.600000</td>\n",
       "      <td>0.908036</td>\n",
       "    </tr>\n",
       "    <tr>\n",
       "      <th>1999-07-11</th>\n",
       "      <td>0.023297</td>\n",
       "      <td>3.600000</td>\n",
       "      <td>0.688691</td>\n",
       "    </tr>\n",
       "  </tbody>\n",
       "</table>\n",
       "</div>"
      ],
      "text/plain": [
       "               ozone       pm25        co\n",
       "date                                     \n",
       "1999-07-01  0.012024  20.000000  1.300686\n",
       "1999-07-02  0.027699  23.900000  0.958194\n",
       "1999-07-03  0.043969  36.700000  1.194444\n",
       "1999-07-04  0.035161  39.000000  1.081548\n",
       "1999-07-05  0.038359  28.171429  0.939583\n",
       "1999-07-06  0.051271  31.800000  1.066146\n",
       "1999-07-08  0.029166   9.083333  0.896572\n",
       "1999-07-09  0.038955  18.300000  1.045126\n",
       "1999-07-10  0.034542  17.600000  0.908036\n",
       "1999-07-11  0.023297   3.600000  0.688691"
      ]
     },
     "execution_count": 12,
     "metadata": {},
     "output_type": "execute_result"
    }
   ],
   "source": [
    "\n",
    "# Alternative method for parsing dates\n",
    "df = pd.read_csv('data/air_quality_data/nyc.csv', \n",
    "                 parse_dates=['date'],\n",
    "                index_col=0)\n",
    "df.head()"
   ]
  },
  {
   "cell_type": "code",
   "execution_count": 13,
   "metadata": {},
   "outputs": [
    {
     "name": "stdout",
     "output_type": "stream",
     "text": [
      "<class 'pandas.core.frame.DataFrame'>\n",
      "DatetimeIndex: 6317 entries, 1999-07-01 to 2017-03-31\n",
      "Data columns (total 3 columns):\n",
      " #   Column  Non-Null Count  Dtype  \n",
      "---  ------  --------------  -----  \n",
      " 0   ozone   6317 non-null   float64\n",
      " 1   pm25    6317 non-null   float64\n",
      " 2   co      6317 non-null   float64\n",
      "dtypes: float64(3)\n",
      "memory usage: 197.4 KB\n"
     ]
    }
   ],
   "source": [
    "df.info()"
   ]
  },
  {
   "cell_type": "code",
   "execution_count": null,
   "metadata": {},
   "outputs": [],
   "source": []
  }
 ],
 "metadata": {
  "kernelspec": {
   "display_name": "Rules vs Random (PhD)",
   "language": "python",
   "name": "rules_vs_random"
  },
  "language_info": {
   "codemirror_mode": {
    "name": "ipython",
    "version": 3
   },
   "file_extension": ".py",
   "mimetype": "text/x-python",
   "name": "python",
   "nbconvert_exporter": "python",
   "pygments_lexer": "ipython3",
   "version": "3.7.11"
  }
 },
 "nbformat": 4,
 "nbformat_minor": 2
}
