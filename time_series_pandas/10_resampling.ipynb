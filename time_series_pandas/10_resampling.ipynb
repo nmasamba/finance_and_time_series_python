{
 "cells": [
  {
   "cell_type": "code",
   "execution_count": 1,
   "metadata": {},
   "outputs": [],
   "source": [
    "\n",
    "import pandas as pd"
   ]
  },
  {
   "cell_type": "code",
   "execution_count": 2,
   "metadata": {},
   "outputs": [],
   "source": [
    "\n",
    "# Define start and end period\n",
    "start = '2022-1-1'\n",
    "end = pd.to_datetime('today')"
   ]
  },
  {
   "cell_type": "code",
   "execution_count": 3,
   "metadata": {},
   "outputs": [
    {
     "name": "stdout",
     "output_type": "stream",
     "text": [
      "DatetimeIndex(['2022-01-31', '2022-02-28'], dtype='datetime64[ns]', freq='M')\n"
     ]
    }
   ],
   "source": [
    "\n",
    "# Create dates from start to end of period\n",
    "monthly_dates = pd.date_range(start, end, freq='M')\n",
    "print(monthly_dates)"
   ]
  },
  {
   "cell_type": "code",
   "execution_count": 4,
   "metadata": {},
   "outputs": [
    {
     "name": "stdout",
     "output_type": "stream",
     "text": [
      "2022-01-31    1\n",
      "2022-02-28    2\n",
      "Freq: M, dtype: int64\n"
     ]
    }
   ],
   "source": [
    "\n",
    "# Create monthly series from dates\n",
    "data = range(1, len(monthly_dates)+1)\n",
    "monthly = pd.Series(data=data, index=monthly_dates)\n",
    "print(monthly)"
   ]
  },
  {
   "cell_type": "markdown",
   "metadata": {},
   "source": [
    "## Upsampling with freq()"
   ]
  },
  {
   "cell_type": "code",
   "execution_count": 5,
   "metadata": {},
   "outputs": [
    {
     "name": "stdout",
     "output_type": "stream",
     "text": [
      "2022-02-06   NaN\n",
      "2022-02-13   NaN\n",
      "2022-02-20   NaN\n",
      "2022-02-27   NaN\n",
      "Freq: W-SUN, dtype: float64\n"
     ]
    }
   ],
   "source": [
    "\n",
    "# Upsample (create more data points) to weekly frequency -> creates missing values\n",
    "weekly = monthly.asfreq('W') # defaults to week-end frequency for period captured by monthly\n",
    "print(weekly)"
   ]
  },
  {
   "cell_type": "code",
   "execution_count": 6,
   "metadata": {},
   "outputs": [
    {
     "data": {
      "text/html": [
       "<div>\n",
       "<style scoped>\n",
       "    .dataframe tbody tr th:only-of-type {\n",
       "        vertical-align: middle;\n",
       "    }\n",
       "\n",
       "    .dataframe tbody tr th {\n",
       "        vertical-align: top;\n",
       "    }\n",
       "\n",
       "    .dataframe thead th {\n",
       "        text-align: right;\n",
       "    }\n",
       "</style>\n",
       "<table border=\"1\" class=\"dataframe\">\n",
       "  <thead>\n",
       "    <tr style=\"text-align: right;\">\n",
       "      <th></th>\n",
       "      <th>original</th>\n",
       "    </tr>\n",
       "  </thead>\n",
       "  <tbody>\n",
       "    <tr>\n",
       "      <th>2022-02-06</th>\n",
       "      <td>NaN</td>\n",
       "    </tr>\n",
       "    <tr>\n",
       "      <th>2022-02-13</th>\n",
       "      <td>NaN</td>\n",
       "    </tr>\n",
       "    <tr>\n",
       "      <th>2022-02-20</th>\n",
       "      <td>NaN</td>\n",
       "    </tr>\n",
       "    <tr>\n",
       "      <th>2022-02-27</th>\n",
       "      <td>NaN</td>\n",
       "    </tr>\n",
       "  </tbody>\n",
       "</table>\n",
       "</div>"
      ],
      "text/plain": [
       "            original\n",
       "2022-02-06       NaN\n",
       "2022-02-13       NaN\n",
       "2022-02-20       NaN\n",
       "2022-02-27       NaN"
      ]
     },
     "execution_count": 6,
     "metadata": {},
     "output_type": "execute_result"
    }
   ],
   "source": [
    "\n",
    "# Convert weekly to dataframe\n",
    "#  We'll use the dataframe to compare fill methods for missing data\n",
    "weekly = weekly.to_frame('original')\n",
    "weekly.head()"
   ]
  },
  {
   "cell_type": "code",
   "execution_count": 7,
   "metadata": {},
   "outputs": [
    {
     "data": {
      "text/html": [
       "<div>\n",
       "<style scoped>\n",
       "    .dataframe tbody tr th:only-of-type {\n",
       "        vertical-align: middle;\n",
       "    }\n",
       "\n",
       "    .dataframe tbody tr th {\n",
       "        vertical-align: top;\n",
       "    }\n",
       "\n",
       "    .dataframe thead th {\n",
       "        text-align: right;\n",
       "    }\n",
       "</style>\n",
       "<table border=\"1\" class=\"dataframe\">\n",
       "  <thead>\n",
       "    <tr style=\"text-align: right;\">\n",
       "      <th></th>\n",
       "      <th>original</th>\n",
       "      <th>ffill</th>\n",
       "      <th>bfill</th>\n",
       "      <th>fixed</th>\n",
       "    </tr>\n",
       "  </thead>\n",
       "  <tbody>\n",
       "    <tr>\n",
       "      <th>2022-02-06</th>\n",
       "      <td>NaN</td>\n",
       "      <td>1</td>\n",
       "      <td>2</td>\n",
       "      <td>0</td>\n",
       "    </tr>\n",
       "    <tr>\n",
       "      <th>2022-02-13</th>\n",
       "      <td>NaN</td>\n",
       "      <td>1</td>\n",
       "      <td>2</td>\n",
       "      <td>0</td>\n",
       "    </tr>\n",
       "    <tr>\n",
       "      <th>2022-02-20</th>\n",
       "      <td>NaN</td>\n",
       "      <td>1</td>\n",
       "      <td>2</td>\n",
       "      <td>0</td>\n",
       "    </tr>\n",
       "    <tr>\n",
       "      <th>2022-02-27</th>\n",
       "      <td>NaN</td>\n",
       "      <td>1</td>\n",
       "      <td>2</td>\n",
       "      <td>0</td>\n",
       "    </tr>\n",
       "  </tbody>\n",
       "</table>\n",
       "</div>"
      ],
      "text/plain": [
       "            original  ffill  bfill  fixed\n",
       "2022-02-06       NaN      1      2      0\n",
       "2022-02-13       NaN      1      2      0\n",
       "2022-02-20       NaN      1      2      0\n",
       "2022-02-27       NaN      1      2      0"
      ]
     },
     "execution_count": 7,
     "metadata": {},
     "output_type": "execute_result"
    }
   ],
   "source": [
    "weekly['ffill'] = monthly.asfreq('W', method='ffill') # Forward fill\n",
    "weekly['bfill'] = monthly.asfreq('W', method='bfill') # Backward fill\n",
    "weekly['fixed'] = monthly.asfreq('W', fill_value=0) \n",
    "weekly.head()"
   ]
  },
  {
   "cell_type": "markdown",
   "metadata": {},
   "source": [
    "## Upsampling through reindexing"
   ]
  },
  {
   "cell_type": "code",
   "execution_count": 8,
   "metadata": {},
   "outputs": [
    {
     "name": "stdout",
     "output_type": "stream",
     "text": [
      "2022-01-02     1\n",
      "2022-01-09     2\n",
      "2022-01-16     3\n",
      "2022-01-23     4\n",
      "2022-01-30     5\n",
      "2022-02-06     6\n",
      "2022-02-13     7\n",
      "2022-02-20     8\n",
      "2022-02-27     9\n",
      "2022-03-06    10\n",
      "2022-03-13    11\n",
      "2022-03-20    12\n",
      "Freq: W-SUN, dtype: int64\n"
     ]
    }
   ],
   "source": [
    "\n",
    "# Create weekly series from dates\n",
    "weekly_dates = pd.date_range(start, end, freq='W')\n",
    "data = range(1, len(weekly_dates)+1)\n",
    "weekly = pd.Series(data=data, index=weekly_dates)\n",
    "print(weekly)"
   ]
  },
  {
   "cell_type": "code",
   "execution_count": 9,
   "metadata": {},
   "outputs": [
    {
     "data": {
      "text/plain": [
       "2022-01-02   NaN\n",
       "2022-01-09   NaN\n",
       "2022-01-16   NaN\n",
       "2022-01-23   NaN\n",
       "2022-01-30   NaN\n",
       "2022-02-06   NaN\n",
       "2022-02-13   NaN\n",
       "2022-02-20   NaN\n",
       "2022-02-27   NaN\n",
       "2022-03-06   NaN\n",
       "2022-03-13   NaN\n",
       "2022-03-20   NaN\n",
       "Freq: W-SUN, dtype: float64"
      ]
     },
     "execution_count": 9,
     "metadata": {},
     "output_type": "execute_result"
    }
   ],
   "source": [
    "\n",
    "# Reindex monthly dates by weekly dates \n",
    "# Creates a series of upsampled monthly dates with missing values\n",
    "# Note that all dates from 1 Jan are captured in weekly_dates, so potentially less prone to error\n",
    "monthly_upsampled = monthly.reindex(weekly_dates)\n",
    "monthly_upsampled"
   ]
  },
  {
   "cell_type": "code",
   "execution_count": 10,
   "metadata": {},
   "outputs": [
    {
     "data": {
      "text/plain": [
       "2022-01-02    NaN\n",
       "2022-01-09    NaN\n",
       "2022-01-16    NaN\n",
       "2022-01-23    NaN\n",
       "2022-01-30    NaN\n",
       "2022-02-06    1.0\n",
       "2022-02-13    1.0\n",
       "2022-02-20    1.0\n",
       "2022-02-27    1.0\n",
       "2022-03-06    2.0\n",
       "2022-03-13    2.0\n",
       "2022-03-20    2.0\n",
       "Freq: W-SUN, dtype: float64"
      ]
     },
     "execution_count": 10,
     "metadata": {},
     "output_type": "execute_result"
    }
   ],
   "source": [
    "\n",
    "# Use forward filling to fill missing values\n",
    "monthly_upsampled = monthly.reindex(weekly_dates, method='ffill')\n",
    "monthly_upsampled"
   ]
  },
  {
   "cell_type": "code",
   "execution_count": 11,
   "metadata": {},
   "outputs": [
    {
     "data": {
      "text/plain": [
       "2022-01-02    1.0\n",
       "2022-01-09    1.0\n",
       "2022-01-16    1.0\n",
       "2022-01-23    1.0\n",
       "2022-01-30    1.0\n",
       "2022-02-06    2.0\n",
       "2022-02-13    2.0\n",
       "2022-02-20    2.0\n",
       "2022-02-27    2.0\n",
       "2022-03-06    NaN\n",
       "2022-03-13    NaN\n",
       "2022-03-20    NaN\n",
       "Freq: W-SUN, dtype: float64"
      ]
     },
     "execution_count": 11,
     "metadata": {},
     "output_type": "execute_result"
    }
   ],
   "source": [
    "\n",
    "# Use backward filling to fill missing values\n",
    "monthly_upsampled = monthly.reindex(weekly_dates, method='bfill')\n",
    "monthly_upsampled"
   ]
  },
  {
   "cell_type": "code",
   "execution_count": 12,
   "metadata": {},
   "outputs": [
    {
     "data": {
      "text/plain": [
       "2022-01-02    1\n",
       "2022-01-09    1\n",
       "2022-01-16    1\n",
       "2022-01-23    1\n",
       "2022-01-30    1\n",
       "2022-02-06    1\n",
       "2022-02-13    1\n",
       "2022-02-20    1\n",
       "2022-02-27    1\n",
       "2022-03-06    1\n",
       "2022-03-13    1\n",
       "2022-03-20    1\n",
       "Freq: W-SUN, dtype: int64"
      ]
     },
     "execution_count": 12,
     "metadata": {},
     "output_type": "execute_result"
    }
   ],
   "source": [
    "\n",
    "# Use fixed value to fill missing values\n",
    "monthly_upsampled = monthly.reindex(weekly_dates, fill_value=1)\n",
    "monthly_upsampled"
   ]
  },
  {
   "cell_type": "code",
   "execution_count": null,
   "metadata": {},
   "outputs": [],
   "source": []
  }
 ],
 "metadata": {
  "kernelspec": {
   "display_name": "Rules vs Random (PhD)",
   "language": "python",
   "name": "rules_vs_random"
  },
  "language_info": {
   "codemirror_mode": {
    "name": "ipython",
    "version": 3
   },
   "file_extension": ".py",
   "mimetype": "text/x-python",
   "name": "python",
   "nbconvert_exporter": "python",
   "pygments_lexer": "ipython3",
   "version": "3.7.11"
  }
 },
 "nbformat": 4,
 "nbformat_minor": 2
}
