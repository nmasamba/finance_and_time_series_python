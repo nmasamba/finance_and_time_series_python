{
 "cells": [
  {
   "cell_type": "code",
   "execution_count": 1,
   "metadata": {},
   "outputs": [],
   "source": [
    "\n",
    "import pandas as pd"
   ]
  },
  {
   "cell_type": "code",
   "execution_count": 4,
   "metadata": {},
   "outputs": [
    {
     "name": "stdout",
     "output_type": "stream",
     "text": [
      "<class 'pandas.core.frame.DataFrame'>\n",
      "DatetimeIndex: 6317 entries, 1999-07-01 to 2017-03-31\n",
      "Data columns (total 3 columns):\n",
      " #   Column  Non-Null Count  Dtype  \n",
      "---  ------  --------------  -----  \n",
      " 0   ozone   6317 non-null   float64\n",
      " 1   pm25    6317 non-null   float64\n",
      " 2   co      6317 non-null   float64\n",
      "dtypes: float64(3)\n",
      "memory usage: 197.4 KB\n"
     ]
    }
   ],
   "source": [
    "\n",
    "df = pd.read_csv('data/air_quality_data/nyc.csv', \n",
    "                 parse_dates=['date'],\n",
    "                index_col=0)\n",
    "df.info()"
   ]
  },
  {
   "cell_type": "code",
   "execution_count": 5,
   "metadata": {},
   "outputs": [
    {
     "name": "stdout",
     "output_type": "stream",
     "text": [
      "<class 'pandas.core.frame.DataFrame'>\n",
      "DatetimeIndex: 364 entries, 2014-01-01 to 2014-12-31\n",
      "Data columns (total 3 columns):\n",
      " #   Column  Non-Null Count  Dtype  \n",
      "---  ------  --------------  -----  \n",
      " 0   ozone   364 non-null    float64\n",
      " 1   pm25    364 non-null    float64\n",
      " 2   co      364 non-null    float64\n",
      "dtypes: float64(3)\n",
      "memory usage: 11.4 KB\n"
     ]
    }
   ],
   "source": [
    "\n",
    "# Select dates using search string\n",
    "df.loc['2014'].info()"
   ]
  },
  {
   "cell_type": "code",
   "execution_count": 6,
   "metadata": {},
   "outputs": [
    {
     "name": "stdout",
     "output_type": "stream",
     "text": [
      "<class 'pandas.core.frame.DataFrame'>\n",
      "DatetimeIndex: 214 entries, 2014-03-01 to 2014-09-30\n",
      "Data columns (total 3 columns):\n",
      " #   Column  Non-Null Count  Dtype  \n",
      "---  ------  --------------  -----  \n",
      " 0   ozone   214 non-null    float64\n",
      " 1   pm25    214 non-null    float64\n",
      " 2   co      214 non-null    float64\n",
      "dtypes: float64(3)\n",
      "memory usage: 6.7 KB\n"
     ]
    }
   ],
   "source": [
    "\n",
    "# Select dates in a given range (inclusive of cut-off date)\n",
    "df.loc['2014-03':'2014-09'].info()"
   ]
  },
  {
   "cell_type": "code",
   "execution_count": 7,
   "metadata": {},
   "outputs": [
    {
     "data": {
      "text/plain": [
       "0.3796388333333334"
      ]
     },
     "execution_count": 7,
     "metadata": {},
     "output_type": "execute_result"
    }
   ],
   "source": [
    "\n",
    "# Select specific date's value\n",
    "df.loc['2014-03-01', 'co']"
   ]
  },
  {
   "cell_type": "code",
   "execution_count": null,
   "metadata": {},
   "outputs": [],
   "source": []
  }
 ],
 "metadata": {
  "kernelspec": {
   "display_name": "Rules vs Random (PhD)",
   "language": "python",
   "name": "rules_vs_random"
  },
  "language_info": {
   "codemirror_mode": {
    "name": "ipython",
    "version": 3
   },
   "file_extension": ".py",
   "mimetype": "text/x-python",
   "name": "python",
   "nbconvert_exporter": "python",
   "pygments_lexer": "ipython3",
   "version": "3.7.11"
  }
 },
 "nbformat": 4,
 "nbformat_minor": 2
}
